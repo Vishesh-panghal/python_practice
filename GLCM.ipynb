{
 "cells": [
  {
   "cell_type": "code",
   "execution_count": 59,
   "id": "999885f7-d48b-4f2a-96eb-9cdb31ab380a",
   "metadata": {},
   "outputs": [],
   "source": [
    "import numpy as np\n",
    "import pandas as pd\n",
    "import matplotlib.pyplot as plt\n",
    "from skimage.feature import graycomatrix, graycoprops\n",
    "from skimage import io\n",
    "from skimage import img_as_ubyte\n",
    "import cv2 as cv"
   ]
  },
  {
   "cell_type": "code",
   "execution_count": 78,
   "id": "d764a9f5-0b25-4f10-ac7a-f5d3ba21d1d8",
   "metadata": {},
   "outputs": [
    {
     "data": {
      "text/plain": [
       "-1"
      ]
     },
     "execution_count": 78,
     "metadata": {},
     "output_type": "execute_result"
    }
   ],
   "source": [
    "PATCH_SIZE = 35\n",
    "\n",
    "# Adding the image and convert it into grey color image:-\n",
    "img = cv.imread('mt_everst.jpg',2)\n",
    "re_img = cv.resize(img,(1700,1700))\n",
    "cv.imshow('Mountain Resize',re_img)\n",
    "cv.waitKey(0)\n",
    "cv.destroyAllWindows()\n",
    "cv.waitKey(1)"
   ]
  },
  {
   "cell_type": "code",
   "execution_count": 61,
   "id": "c6475154-909a-464a-8270-ef90d4d7904d",
   "metadata": {},
   "outputs": [
    {
     "data": {
      "text/plain": [
       "0.03595763856226541"
      ]
     },
     "execution_count": 61,
     "metadata": {},
     "output_type": "execute_result"
    }
   ],
   "source": [
    "GLCM = graycomatrix(img,[1],[0,np.pi/4,np.pi/2,3*np.pi/4])\n",
    "a = graycoprops(GLCM,'energy')[0,0]\n",
    "a"
   ]
  },
  {
   "cell_type": "code",
   "execution_count": 62,
   "id": "07514388-6929-4157-9681-3f9930753ccc",
   "metadata": {},
   "outputs": [],
   "source": [
    "from skimage import exposure"
   ]
  },
  {
   "cell_type": "code",
   "execution_count": 63,
   "id": "743372bb-1fb9-45ab-a31d-0442b25e72d3",
   "metadata": {},
   "outputs": [],
   "source": [
    "cell_location = [(100,100),(850,850),(670,850),(1600,850)]\n",
    "cell_patches = []\n",
    "for loc in cell_location:\n",
    "    cell_patches.append(image[loc[0]:loc[0] + PATCH_SIZE,loc[1]:loc[1] + PATCH_SIZE])\n",
    "    patch_rescaled = exposure.rescale_intensity(patch, in_range='image', out_range=(0, 1))\n",
    "    cell_patches.append(patch_rescaled)"
   ]
  },
  {
   "cell_type": "code",
   "execution_count": null,
   "id": "b37a7dc2-00be-4f95-bfbd-0f37408b1a88",
   "metadata": {},
   "outputs": [],
   "source": [
    "# scratch_locations = ["
   ]
  },
  {
   "cell_type": "markdown",
   "id": "88725686-dbbb-4bc3-a8a5-c425511df650",
   "metadata": {},
   "source": [
    "### Compute GLCM"
   ]
  },
  {
   "cell_type": "code",
   "execution_count": 68,
   "id": "18b1d919-3f6d-4e1c-be96-00d240dba83c",
   "metadata": {},
   "outputs": [],
   "source": [
    "dis_simm = []\n",
    "corr = []\n",
    "homogen = []\n",
    "energy = []\n",
    "contrast = []\n",
    "\n",
    "for patch in (cell_patches):\n",
    "    patch_uint8 = img_as_ubyte(patch)\n",
    "    glcm = graycomatrix(patch_uint8, distances=[5], angles=[0], levels=256,symmetric=True, normed=True)\n",
    "    dis_simm.append(graycoprops(glcm, 'dissimilarity')[0, 0]) #[0,0] to convert array to value\n",
    "    corr.append(graycoprops(glcm, 'correlation')[0, 0])\n",
    "    homogen.append(graycoprops(glcm, 'homogeneity')[0, 0])\n",
    "    energy.append(graycoprops(glcm, 'energy')[0, 0])\n",
    "    contrast.append(graycoprops(glcm, 'contrast')[0, 0])"
   ]
  },
  {
   "cell_type": "code",
   "execution_count": 77,
   "id": "edebea0c-6cf7-4bb4-8247-7d156253acf0",
   "metadata": {},
   "outputs": [
    {
     "data": {
      "text/plain": [
       "(-0.5, 4999.5, 3337.5, -0.5)"
      ]
     },
     "execution_count": 77,
     "metadata": {},
     "output_type": "execute_result"
    },
    {
     "data": {
      "image/png": "[encoded data removed]",
      "text/plain": [
       "<Figure size 800x800 with 1 Axes>"
      ]
     },
     "metadata": {},
     "output_type": "display_data"
    }
   ],
   "source": [
    "fig = plt.figure(figsize=(8, 8))\n",
    "\n",
    "# display original image with locations of patches\n",
    "ax = fig.add_subplot(3, 2, 1)\n",
    "ax.imshow(image, cmap=plt.cm.gray,\n",
    "          vmin=0, vmax=255)\n",
    "for (y, x) in cell_location:\n",
    "    ax.plot(x + PATCH_SIZE / 2, y + PATCH_SIZE / 2, 'gs')\n",
    "ax.set_xlabel('Original Image')\n",
    "ax.set_xticks([])\n",
    "ax.set_yticks([])\n",
    "ax.axis('image')"
   ]
  },
  {
   "cell_type": "code",
   "execution_count": 76,
   "id": "610120f6-9442-4a75-80df-4b7d571d7a96",
   "metadata": {},
   "outputs": [
    {
     "data": {
      "text/plain": [
       "<Figure size 640x480 with 0 Axes>"
      ]
     },
     "metadata": {},
     "output_type": "display_data"
    }
   ],
   "source": [
    "ax = fig.add_subplot(3, 2, 2)\n",
    "ax.plot(dis_simm[:len(cell_patches)], corr[:len(cell_patches)], 'go',\n",
    "        label='Cells')\n",
    "ax.plot(dis_simm[len(cell_patches):], corr[len(cell_patches):], 'bo',\n",
    "        label='Scratch')\n",
    "ax.set_xlabel('GLCM Dissimilarity')\n",
    "ax.set_ylabel('GLCM Correlation')\n",
    "ax.legend()\n",
    "\n",
    "# display the image patches\n",
    "for i, patch in enumerate(cell_patches):\n",
    "    ax = fig.add_subplot(3, len(cell_patches), len(cell_patches)*1 + i + 1)\n",
    "    ax.imshow(patch, cmap=plt.cm.gray,\n",
    "              vmin=0, vmax=255)\n",
    "    ax.set_xlabel('Cells %d' % (i + 1))\n",
    "\n",
    "\n",
    "# display the patches and plot\n",
    "fig.suptitle('Grey level co-occurrence matrix features', fontsize=14, y=1.05)\n",
    "plt.tight_layout()\n",
    "plt.show()"
   ]
  },
  {
   "cell_type": "code",
   "execution_count": null,
   "id": "78855b57-370f-4370-8ec5-1480acc9aaf7",
   "metadata": {},
   "outputs": [],
   "source": []
  }
 ],
 "metadata": {
  "kernelspec": {
   "display_name": "Python 3 (ipykernel)",
   "language": "python",
   "name": "python3"
  },
  "language_info": {
   "codemirror_mode": {
    "name": "ipython",
    "version": 3
   },
   "file_extension": ".py",
   "mimetype": "text/x-python",
   "name": "python",
   "nbconvert_exporter": "python",
   "pygments_lexer": "ipython3",
   "version": "3.12.2"
  }
 },
 "nbformat": 4,
 "nbformat_minor": 5
}
