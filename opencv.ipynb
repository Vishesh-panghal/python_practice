{
 "cells": [
  {
   "cell_type": "code",
   "execution_count": 5,
   "id": "59296ede-51be-42a4-b744-7f3d1c6f9465",
   "metadata": {},
   "outputs": [],
   "source": [
    "import cv2 as cv\n",
    "import numpy as np"
   ]
  },
  {
   "cell_type": "code",
   "execution_count": 1,
   "id": "7f275a4a-34a5-4dee-9cd8-01a1a3530fd8",
   "metadata": {},
   "outputs": [],
   "source": [
    "#Show an image"
   ]
  },
  {
   "cell_type": "code",
   "execution_count": 13,
   "id": "6fe3a6db-6a31-41ab-ac59-a8ee59d2f50b",
   "metadata": {},
   "outputs": [
    {
     "data": {
      "text/plain": [
       "-1"
      ]
     },
     "execution_count": 13,
     "metadata": {},
     "output_type": "execute_result"
    }
   ],
   "source": [
    "img = cv.imread('mt_everst.jpg',1)\n",
    "re_img = cv.resize(img,(500,500))\n",
    "cv.imshow('Mountain',img)\n",
    "cv.imshow('Mountain Resize',re_img)\n",
    "cv.waitKey(0)\n",
    "cv.destroyAllWindows()\n",
    "cv.waitKey(1)"
   ]
  },
  {
   "cell_type": "code",
   "execution_count": null,
   "id": "bf42185e-6842-42fb-bbde-bf621555d8a4",
   "metadata": {},
   "outputs": [],
   "source": [
    "# Show video"
   ]
  },
  {
   "cell_type": "code",
   "execution_count": 4,
   "id": "d4a959b2-f569-4986-9a3b-f648e9195ca5",
   "metadata": {},
   "outputs": [
    {
     "data": {
      "text/plain": [
       "-1"
      ]
     },
     "execution_count": 4,
     "metadata": {},
     "output_type": "execute_result"
    }
   ],
   "source": [
    "capture = cv.VideoCapture(1)\n",
    "while True:\n",
    "    isTrue, frame = capture.read()\n",
    "    cv.imshow('Video',frame)\n",
    "    if cv.waitKey(20) & 0xFF==ord('d'):\n",
    "        break\n",
    "cv.destroyAllWindows()\n",
    "cv.waitKey(1)"
   ]
  },
  {
   "cell_type": "code",
   "execution_count": null,
   "id": "66c106f3-a3d2-4c06-9d11-09fd6bb3d8f2",
   "metadata": {},
   "outputs": [],
   "source": [
    "# Draw Text and rectangle on an image"
   ]
  },
  {
   "cell_type": "code",
   "execution_count": 40,
   "id": "e63515bd-7e3b-488d-96fa-e3e976f53350",
   "metadata": {},
   "outputs": [
    {
     "data": {
      "text/plain": [
       "-1"
      ]
     },
     "execution_count": 40,
     "metadata": {},
     "output_type": "execute_result"
    }
   ],
   "source": [
    "img = cv.imread('mt_everst.jpg',0)\n",
    "img = cv.resize(img,(1800,1800))\n",
    "txt_img = cv.putText(img = img,text = 'Mountain',org=(70,390),fontFace = 7,fontScale = 4,color=(0,0,255),thickness = 2,lineType = 8,bottomLeftOrigin= False)\n",
    "main_img = cv.rectangle(img = txt_img,pt1=(50,400),pt2=(1750,1500),color =(0,255,0),thickness=4,lineType=4)# pt1 is top left where as pt2 is bottom right\n",
    "cv.imshow(\"Mountain last\",txt_img)\n",
    "cv.waitKey(0)\n",
    "cv.destroyAllWindows()\n",
    "cv.waitKey(1)"
   ]
  },
  {
   "cell_type": "code",
   "execution_count": null,
   "id": "8add94e6-e2a9-41b4-ae83-53e8585bd38a",
   "metadata": {},
   "outputs": [],
   "source": [
    "# Draw Circle and ellipse"
   ]
  },
  {
   "cell_type": "code",
   "execution_count": 51,
   "id": "7c5288a1-e993-445a-85b3-c94245b19249",
   "metadata": {},
   "outputs": [
    {
     "data": {
      "text/plain": [
       "-1"
      ]
     },
     "execution_count": 51,
     "metadata": {},
     "output_type": "execute_result"
    }
   ],
   "source": [
    "old_img = cv.imread('mine.jpg',1)\n",
    "new_img = cv.circle(img=old_img,center=(430,430),radius=80,color=(235,0,164),thickness = 3,lineType=16) #-1 is for fill color to circle\n",
    "cv.imshow(\"Mine\",new_img)\n",
    "cv.waitKey(0)\n",
    "cv.destroyAllWindows()\n",
    "cv.waitKey(1)"
   ]
  },
  {
   "cell_type": "code",
   "execution_count": 81,
   "id": "2e1c2691-bda4-4938-a0e6-b2224f13de1b",
   "metadata": {},
   "outputs": [
    {
     "data": {
      "text/plain": [
       "-1"
      ]
     },
     "execution_count": 81,
     "metadata": {},
     "output_type": "execute_result"
    }
   ],
   "source": [
    "old_img = cv.imread('mine.jpg',1)\n",
    "txt_img = cv.putText(img=old_img,text='Vishesh',org=(470,440),fontFace=3,fontScale=1.4,color = (0,0,255),thickness=2,lineType=16,bottomLeftOrigin=False)\n",
    "new_img = cv.ellipse(img= old_img,center=(430,430),axes=(50,80),angle=20,startAngle= 0,endAngle=330,color = (163,222,100),thickness=2,lineType=16)\n",
    "cv.imshow(\"Mine\",new_img)\n",
    "cv.waitKey(0)\n",
    "cv.destroyAllWindows()\n",
    "cv.waitKey(1)"
   ]
  },
  {
   "cell_type": "code",
   "execution_count": null,
   "id": "513f0af1-8273-42d8-8095-e9cbf6e2a10b",
   "metadata": {},
   "outputs": [],
   "source": [
    "# Draw any polygon"
   ]
  },
  {
   "cell_type": "code",
   "execution_count": 37,
   "id": "b66137be-bc65-4169-acbd-9842a7eda4c2",
   "metadata": {},
   "outputs": [
    {
     "data": {
      "text/plain": [
       "-1"
      ]
     },
     "execution_count": 37,
     "metadata": {},
     "output_type": "execute_result"
    }
   ],
   "source": [
    "old_img = cv.imread('mine.jpg',1)\n",
    "new_img = cv.polylines(img=old_img,pts=[np.array([[580,500],[450,300],[250,480],[250,900],[580,900]])],isClosed=True,color= (0,255,0),thickness=4,lineType=2)\n",
    "cv.imshow(\"Vishesh\",old_img)\n",
    "cv.waitKey(0)\n",
    "cv.destroyAllWindows()\n",
    "cv.waitKey(1)"
   ]
  },
  {
   "cell_type": "code",
   "execution_count": null,
   "id": "daddff98-8144-46ef-8844-859a188ba0df",
   "metadata": {},
   "outputs": [],
   "source": [
    "# Edge ddetection in a photo"
   ]
  },
  {
   "cell_type": "code",
   "execution_count": 95,
   "id": "3b8a6284-939d-44a1-ade7-bca5b0b7b637",
   "metadata": {},
   "outputs": [
    {
     "data": {
      "text/plain": [
       "-1"
      ]
     },
     "execution_count": 95,
     "metadata": {},
     "output_type": "execute_result"
    }
   ],
   "source": [
    "old_img = cv.imread('mine.jpg',1)\n",
    "new_img = cv.Canny(old_img,400,300,apertureSize=7,L2gradient= False) # apertureSize is always b/w 3 to 7\n",
    "\n",
    "cv.imshow(\"Vishesh\",new_img)\n",
    "cv.waitKey(0)\n",
    "cv.destroyAllWindows()\n",
    "cv.waitKey(1)"
   ]
  },
  {
   "cell_type": "code",
   "execution_count": null,
   "id": "68861415-ece9-49ee-b843-f55afa6a9e6c",
   "metadata": {},
   "outputs": [],
   "source": [
    "# Rotate an image"
   ]
  },
  {
   "cell_type": "code",
   "execution_count": 111,
   "id": "4f6cd425-77fc-4bda-84af-054b6067a8ca",
   "metadata": {},
   "outputs": [
    {
     "data": {
      "text/plain": [
       "-1"
      ]
     },
     "execution_count": 111,
     "metadata": {},
     "output_type": "execute_result"
    }
   ],
   "source": [
    "old_img = cv.imread('mine.jpg',1)\n",
    "res_img = cv.resize(old_img,(600,828))\n",
    "w,h = old_img.shape[0],old_img.shape[1]\n",
    "m = cv.getRotationMatrix2D((w/2,h/2),40,1)\n",
    "\n",
    "new_img = cv.warpAffine(old_img,m,(w,h))\n",
    "hStack1 = np.hstack((res_img,new_img))\n",
    "cv.imshow(\"Vishesh\",hStack1)\n",
    "cv.waitKey(0)\n",
    "cv.destroyAllWindows()\n",
    "cv.waitKey(1)"
   ]
  },
  {
   "cell_type": "code",
   "execution_count": null,
   "id": "3b90e851-c811-4eec-8d2d-4bc73ebea529",
   "metadata": {},
   "outputs": [],
   "source": []
  }
 ],
 "metadata": {
  "kernelspec": {
   "display_name": "Python 3 (ipykernel)",
   "language": "python",
   "name": "python3"
  },
  "language_info": {
   "codemirror_mode": {
    "name": "ipython",
    "version": 3
   },
   "file_extension": ".py",
   "mimetype": "text/x-python",
   "name": "python",
   "nbconvert_exporter": "python",
   "pygments_lexer": "ipython3",
   "version": "3.12.2"
  }
 },
 "nbformat": 4,
 "nbformat_minor": 5
}
