{
 "cells": [
  {
   "cell_type": "code",
   "execution_count": 2,
   "id": "365b1735-93ec-4b9f-ad35-edba6fb189b2",
   "metadata": {},
   "outputs": [],
   "source": [
    "import numpy"
   ]
  },
  {
   "cell_type": "markdown",
   "id": "9cad5753-7cec-4ebc-8e6c-d2bc14075a9f",
   "metadata": {},
   "source": [
    "### Nested loops"
   ]
  },
  {
   "cell_type": "code",
   "execution_count": 7,
   "id": "14581d06-c6be-41c1-ba45-5448292b432b",
   "metadata": {},
   "outputs": [
    {
     "name": "stdout",
     "output_type": "stream",
     "text": [
      "1,1\n",
      "2,2\n",
      "3,3\n",
      "4,4\n"
     ]
    }
   ],
   "source": [
    "# unique pairs\n",
    "for i in range(1,5):\n",
    "    for j in range(1,12):\n",
    "        if(i==j):\n",
    "            print(\"{},{}\".format(i,j))"
   ]
  },
  {
   "cell_type": "markdown",
   "id": "cc013a49-a6b3-4ec2-8ad8-d4d731dd8f3f",
   "metadata": {},
   "source": [
    "### Pattren printing"
   ]
  },
  {
   "cell_type": "code",
   "execution_count": 14,
   "id": "5d74aacc-4970-4534-b769-7a14e2b392dc",
   "metadata": {},
   "outputs": [
    {
     "name": "stdin",
     "output_type": "stream",
     "text": [
      "Enter no. of Rows 4\n"
     ]
    },
    {
     "name": "stdout",
     "output_type": "stream",
     "text": [
      "* \n",
      "* * \n",
      "* * * \n",
      "* * * * \n"
     ]
    }
   ],
   "source": [
    "rows = int(input(\"Enter no. of Rows\"))\n",
    "for i in range(1,rows+1):\n",
    "    for j in range(1,i+1):\n",
    "         print(\"*\",end=' ')\n",
    "    print()"
   ]
  },
  {
   "cell_type": "code",
   "execution_count": 22,
   "id": "fd9bfc6e-e5e4-4a49-9ce2-2789b0cea47d",
   "metadata": {},
   "outputs": [
    {
     "name": "stdin",
     "output_type": "stream",
     "text": [
      "Enter no. of Rows 4\n"
     ]
    },
    {
     "name": "stdout",
     "output_type": "stream",
     "text": [
      "1 \n",
      "1 2 1 \n",
      "1 2 3 2 1 \n",
      "1 2 3 4 3 2 1 \n"
     ]
    }
   ],
   "source": [
    "rows = int(input(\"Enter no. of Rows\"))\n",
    "\n",
    "for i in range(1,rows+1):\n",
    "    for j in range(1,i+1):\n",
    "        print(\"{}\".format(j),end=\" \")\n",
    "    for k in range(i-1,0,-1):\n",
    "        print(k,end=\" \")\n",
    "    print()"
   ]
  },
  {
   "cell_type": "markdown",
   "id": "0662f90d-c828-4a71-ba5e-b68bbee0b8d3",
   "metadata": {},
   "source": [
    "### Prime number"
   ]
  },
  {
   "cell_type": "code",
   "execution_count": 43,
   "id": "c1e38397-b990-4bf4-b2d5-b56d97612d38",
   "metadata": {},
   "outputs": [
    {
     "name": "stdin",
     "output_type": "stream",
     "text": [
      "Entre your lower value 1\n",
      "Entre your upper value 12\n"
     ]
    },
    {
     "name": "stdout",
     "output_type": "stream",
     "text": [
      "3 is prime number\n",
      "5 is prime number\n",
      "7 is prime number\n",
      "9 is prime number\n",
      "11 is prime number\n"
     ]
    }
   ],
   "source": [
    "lower = int(input(\"Entre your lower value\"))\n",
    "upper = int(input(\"Entre your upper value\"))\n",
    "\n",
    "for i in range(lower,upper+1):\n",
    "    for j in range(2,i):\n",
    "        if(i%j==0):\n",
    "           break\n",
    "        else:\n",
    "             print(\"{} is prime number\".format(i))\n",
    "             break\n",
    "            "
   ]
  },
  {
   "cell_type": "code",
   "execution_count": null,
   "id": "dfe965b1-ace0-4cec-8642-d7839f84ce00",
   "metadata": {},
   "outputs": [],
   "source": []
  }
 ],
 "metadata": {
  "kernelspec": {
   "display_name": "Python 3 (ipykernel)",
   "language": "python",
   "name": "python3"
  },
  "language_info": {
   "codemirror_mode": {
    "name": "ipython",
    "version": 3
   },
   "file_extension": ".py",
   "mimetype": "text/x-python",
   "name": "python",
   "nbconvert_exporter": "python",
   "pygments_lexer": "ipython3",
   "version": "3.12.2"
  }
 },
 "nbformat": 4,
 "nbformat_minor": 5
}
