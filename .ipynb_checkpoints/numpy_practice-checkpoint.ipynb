{
 "cells": [
  {
   "cell_type": "code",
   "execution_count": 40,
   "id": "6fa1dd3a-9581-4ed1-bc40-a941dfa94fed",
   "metadata": {},
   "outputs": [
    {
     "name": "stdout",
     "output_type": "stream",
     "text": [
      "[ 2  4  6  8 10 12 14 16 18  0]\n"
     ]
    }
   ],
   "source": [
    "import numpy as np\n",
    "\n",
    "a = np.array([1,2,3,4,5,6,7,8,9,0])\n",
    "b = np.array([1,2,3,4,5,6,7,8,9,0])\n",
    "result  = a + b\n",
    "print(result)"
   ]
  },
  {
   "cell_type": "code",
   "execution_count": 42,
   "id": "a6a70f3e-9f67-48cc-8050-bcc859d8f464",
   "metadata": {},
   "outputs": [
    {
     "name": "stdout",
     "output_type": "stream",
     "text": [
      "2 is divisible by 2\n",
      "4 is divisible by 2\n",
      "6 is divisible by 2\n",
      "8 is divisible by 2\n",
      "10 is divisible by 2\n",
      "12 is divisible by 2\n",
      "14 is divisible by 2\n",
      "16 is divisible by 2\n",
      "18 is divisible by 2\n",
      "0 is divisible by 2\n"
     ]
    }
   ],
   "source": [
    "for i in result:\n",
    "    if(i%2==0):\n",
    "        print(\"{} is divisible by 2\".format(i))\n",
    "    else:\n",
    "        print(\"{} is not divisible by 2\".format(i))"
   ]
  },
  {
   "cell_type": "code",
   "execution_count": 43,
   "id": "214d3594-452c-475e-8043-02a232dcdfae",
   "metadata": {},
   "outputs": [
    {
     "data": {
      "text/plain": [
       "1"
      ]
     },
     "execution_count": 43,
     "metadata": {},
     "output_type": "execute_result"
    }
   ],
   "source": [
    "a.ndim # To check the dimension of the array"
   ]
  },
  {
   "cell_type": "code",
   "execution_count": 53,
   "id": "cf71b8a4-8118-4e7c-a144-ed2a7b208ea1",
   "metadata": {},
   "outputs": [
    {
     "name": "stdout",
     "output_type": "stream",
     "text": [
      "10\n",
      "(10,)\n"
     ]
    }
   ],
   "source": [
    "a.itemsize \n",
    "a.dtype\n",
    "print(a.size)\n",
    "print(a.shape) # Row ,Column"
   ]
  },
  {
   "cell_type": "code",
   "execution_count": 60,
   "id": "7de52b03-1de3-467e-a952-b4228cb5939a",
   "metadata": {},
   "outputs": [
    {
     "name": "stdout",
     "output_type": "stream",
     "text": [
      "[[0. 0. 0. 0. 0. 0.]\n",
      " [0. 0. 0. 0. 0. 0.]\n",
      " [0. 0. 0. 0. 0. 0.]]\n",
      "---------------------------*****************----------------------------------\n",
      "[[1. 1. 1. 1. 1. 1.]\n",
      " [1. 1. 1. 1. 1. 1.]\n",
      " [1. 1. 1. 1. 1. 1.]]\n"
     ]
    }
   ],
   "source": [
    "print(np.zeros((3,6)))\n",
    "print(\"---------------------------*****************----------------------------------\")\n",
    "print(np.ones((3,6)))"
   ]
  },
  {
   "cell_type": "code",
   "execution_count": 61,
   "id": "2e7af3ea-4ad9-4dac-94c9-3c7d11cb4472",
   "metadata": {},
   "outputs": [
    {
     "data": {
      "text/plain": [
       "array([1, 2, 3, 4])"
      ]
     },
     "execution_count": 61,
     "metadata": {},
     "output_type": "execute_result"
    }
   ],
   "source": [
    "np.arange(1,5)"
   ]
  },
  {
   "cell_type": "code",
   "execution_count": 64,
   "id": "c2b2fbaf-a2da-498b-9ba3-3f8cc9669e45",
   "metadata": {},
   "outputs": [
    {
     "data": {
      "text/plain": [
       "array([ 3,  6,  9, 12, 15, 18, 21, 24, 27, 30])"
      ]
     },
     "execution_count": 64,
     "metadata": {},
     "output_type": "execute_result"
    }
   ],
   "source": [
    "np.arange(3,33,3)"
   ]
  },
  {
   "cell_type": "code",
   "execution_count": 67,
   "id": "5a65815e-7ccb-438d-8087-63244437d140",
   "metadata": {},
   "outputs": [
    {
     "name": "stdout",
     "output_type": "stream",
     "text": [
      "<class 'numpy.ndarray'>\n"
     ]
    },
    {
     "data": {
      "text/plain": [
       "array([1.        , 1.27272727, 1.54545455, 1.81818182, 2.09090909,\n",
       "       2.36363636, 2.63636364, 2.90909091, 3.18181818, 3.45454545,\n",
       "       3.72727273, 4.        ])"
      ]
     },
     "execution_count": 67,
     "metadata": {},
     "output_type": "execute_result"
    }
   ],
   "source": [
    "a = np.linspace(1,4,12) # it generate n {here 12} numbers b/w range{1,5 here}\n",
    "print(type(a))\n",
    "a"
   ]
  },
  {
   "cell_type": "code",
   "execution_count": 76,
   "id": "af5e55bf-a0ef-4427-96ac-6a2c8fe6b208",
   "metadata": {},
   "outputs": [
    {
     "name": "stdout",
     "output_type": "stream",
     "text": [
      "(3, 2)\n"
     ]
    },
    {
     "data": {
      "text/plain": [
       "array([[1, 2, 2],\n",
       "       [3, 4, 5]])"
      ]
     },
     "execution_count": 76,
     "metadata": {},
     "output_type": "execute_result"
    }
   ],
   "source": [
    "a  = np.array([[1,2],[2,3],[4,5]])\n",
    "print(a.shape)\n",
    "a.reshape(2,3)"
   ]
  },
  {
   "cell_type": "code",
   "execution_count": 77,
   "id": "588d9253-9ff5-434d-bdff-6a1f88fb49cf",
   "metadata": {},
   "outputs": [
    {
     "data": {
      "text/plain": [
       "array([1, 2, 2, 3, 4, 5])"
      ]
     },
     "execution_count": 77,
     "metadata": {},
     "output_type": "execute_result"
    }
   ],
   "source": [
    "a.ravel() # convert the matrix into 1D"
   ]
  },
  {
   "cell_type": "code",
   "execution_count": 78,
   "id": "c8baa8cd-81f1-4261-a01c-8a95c730f06e",
   "metadata": {},
   "outputs": [
    {
     "data": {
      "text/plain": [
       "array([[1, 2],\n",
       "       [2, 3],\n",
       "       [4, 5]])"
      ]
     },
     "execution_count": 78,
     "metadata": {},
     "output_type": "execute_result"
    }
   ],
   "source": [
    "a"
   ]
  },
  {
   "cell_type": "code",
   "execution_count": 80,
   "id": "ddcdb2a1-6fe7-46e9-bb0f-08b456a225dd",
   "metadata": {},
   "outputs": [
    {
     "data": {
      "text/plain": [
       "array([3, 5, 9])"
      ]
     },
     "execution_count": 80,
     "metadata": {},
     "output_type": "execute_result"
    }
   ],
   "source": [
    "a.sum(axis=0) # it sum in column manner\n",
    "a.sum(axis=1) # it sum in row manner"
   ]
  },
  {
   "cell_type": "code",
   "execution_count": 82,
   "id": "b11c658c-919e-42df-ab7d-c1024c2e22f5",
   "metadata": {},
   "outputs": [
    {
     "data": {
      "text/plain": [
       "array([[1.        , 1.41421356],\n",
       "       [1.41421356, 1.73205081],\n",
       "       [2.        , 2.23606798]])"
      ]
     },
     "execution_count": 82,
     "metadata": {},
     "output_type": "execute_result"
    }
   ],
   "source": [
    "np.std(a) # standart devation\n",
    "np.sqrt(a) # square root at each index"
   ]
  },
  {
   "cell_type": "code",
   "execution_count": 84,
   "id": "09dbfe6e-2a88-49d3-8250-7bb5672fb39a",
   "metadata": {},
   "outputs": [
    {
     "data": {
      "text/plain": [
       "array([2, 3, 4, 5])"
      ]
     },
     "execution_count": 84,
     "metadata": {},
     "output_type": "execute_result"
    }
   ],
   "source": [
    "a = np.array([1,2,3,4,5,6,7,8,9,0]) \n",
    "a[1:5] # Slicing the array"
   ]
  },
  {
   "cell_type": "code",
   "execution_count": 85,
   "id": "a377e86e-3638-4594-a93c-c409130f6c68",
   "metadata": {},
   "outputs": [
    {
     "name": "stdout",
     "output_type": "stream",
     "text": [
      "[1 2]\n",
      "[2 3]\n",
      "[4 5]\n"
     ]
    }
   ],
   "source": [
    "a  = np.array([[1,2],[2,3],[4,5]])\n",
    "\n",
    "for row in a:\n",
    "    print(row)"
   ]
  },
  {
   "cell_type": "code",
   "execution_count": 86,
   "id": "2059bb53-172f-4d42-974d-a0d424374411",
   "metadata": {},
   "outputs": [
    {
     "name": "stdout",
     "output_type": "stream",
     "text": [
      "1\n",
      "2\n",
      "2\n",
      "3\n",
      "4\n",
      "5\n"
     ]
    }
   ],
   "source": [
    "for cell in a.flat:\n",
    "    print(cell) # it will print all individual elements from the matrix"
   ]
  },
  {
   "cell_type": "code",
   "execution_count": 95,
   "id": "7a6df4f9-4cba-4aa2-824a-cb91b2b15518",
   "metadata": {},
   "outputs": [
    {
     "name": "stdout",
     "output_type": "stream",
     "text": [
      "[[0 1]\n",
      " [2 3]\n",
      " [4 5]]\n",
      "---------------------------*****************----------------------------------\n",
      "[[ 6  7]\n",
      " [ 8  9]\n",
      " [10 11]]\n",
      "---------------------------*****************----------------------------------\n",
      "[[ 0  1]\n",
      " [ 2  3]\n",
      " [ 4  5]\n",
      " [ 6  7]\n",
      " [ 8  9]\n",
      " [10 11]]\n",
      "---------------------------*****************----------------------------------\n",
      "[[ 0  1  6  7]\n",
      " [ 2  3  8  9]\n",
      " [ 4  5 10 11]]\n"
     ]
    }
   ],
   "source": [
    "a = np.arange(6).reshape(3,2)\n",
    "print(a)\n",
    "print(\"---------------------------*****************----------------------------------\")\n",
    "b = np.arange(6,12).reshape(3,2)\n",
    "print(b)\n",
    "print(\"---------------------------*****************----------------------------------\")\n",
    "c = np.vstack((a,b)) # Basically it merg both the array into one array(in vertical manner)\n",
    "print(c)\n",
    "print(\"---------------------------*****************----------------------------------\")\n",
    "d = np.hstack((a,b)) # Basically it merg both the array into one array(in horizontal manner)\n",
    "print(d)"
   ]
  },
  {
   "cell_type": "code",
   "execution_count": 104,
   "id": "3ab860e8-74bd-4be1-a2cc-d6605a0ef720",
   "metadata": {},
   "outputs": [
    {
     "name": "stdout",
     "output_type": "stream",
     "text": [
      "[[ 0  1  2  3  4  5  6  7  8  9 10 11 12 13 14]\n",
      " [15 16 17 18 19 20 21 22 23 24 25 26 27 28 29]]\n",
      "---------------------------*****************----------------------------------\n",
      "[[ 0  1  2  3  4]\n",
      " [15 16 17 18 19]]\n"
     ]
    },
    {
     "data": {
      "text/plain": [
       "array([[ 5,  6,  7,  8,  9],\n",
       "       [20, 21, 22, 23, 24]])"
      ]
     },
     "execution_count": 104,
     "metadata": {},
     "output_type": "execute_result"
    }
   ],
   "source": [
    "a = np.arange(30).reshape(2,15)\n",
    "print(a)\n",
    "print(\"---------------------------*****************----------------------------------\")\n",
    "b = np.hsplit(a,3) # split the array into n parts{here in 3} same as in verticle side as vsplit\n",
    "print(b[0])\n",
    "b[1]"
   ]
  },
  {
   "cell_type": "code",
   "execution_count": 113,
   "id": "c8baae64-6a1b-4bd0-9065-c33bd4cb8d72",
   "metadata": {},
   "outputs": [
    {
     "data": {
      "text/plain": [
       "array([ 6,  7,  8,  9, 10, 11, 12, 13, 14, 15, 16, 17, 18, 19, 20, 21, 22,\n",
       "       23, 24, 25, 26, 27, 28, 29])"
      ]
     },
     "execution_count": 113,
     "metadata": {},
     "output_type": "execute_result"
    }
   ],
   "source": [
    "a = np.arange(30).reshape(2,15)\n",
    "b = a>5 # indexing with boolen array\n",
    "b\n",
    "a[b] # it give only that cells which are true or greater than 5 here"
   ]
  },
  {
   "cell_type": "code",
   "execution_count": 117,
   "id": "10d7120c-fba1-43d4-8660-13d4b4be2363",
   "metadata": {},
   "outputs": [
    {
     "data": {
      "text/plain": [
       "array([[ 0,  1,  2,  3,  4,  5, -1, -1, -1, -1, -1, -1, -1, -1, -1],\n",
       "       [-1, -1, -1, -1, -1, -1, -1, -1, -1, -1, -1, -1, -1, -1, -1]])"
      ]
     },
     "execution_count": 117,
     "metadata": {},
     "output_type": "execute_result"
    }
   ],
   "source": [
    "a[b] = -1\n",
    "a"
   ]
  },
  {
   "cell_type": "code",
   "execution_count": null,
   "id": "210eb670-d509-4cd7-a0cb-22dc7845066e",
   "metadata": {},
   "outputs": [],
   "source": []
  },
  {
   "cell_type": "code",
   "execution_count": null,
   "id": "18722a13-a49d-433f-bce2-4bad0f906e56",
   "metadata": {},
   "outputs": [],
   "source": []
  }
 ],
 "metadata": {
  "kernelspec": {
   "display_name": "Python 3 (ipykernel)",
   "language": "python",
   "name": "python3"
  },
  "language_info": {
   "codemirror_mode": {
    "name": "ipython",
    "version": 3
   },
   "file_extension": ".py",
   "mimetype": "text/x-python",
   "name": "python",
   "nbconvert_exporter": "python",
   "pygments_lexer": "ipython3",
   "version": "3.12.2"
  }
 },
 "nbformat": 4,
 "nbformat_minor": 5
}
