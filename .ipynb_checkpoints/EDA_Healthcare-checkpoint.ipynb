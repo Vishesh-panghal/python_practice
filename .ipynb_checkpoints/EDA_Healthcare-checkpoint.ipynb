{
 "cells": [
  {
   "cell_type": "markdown",
   "id": "bd235262-e1ad-4fc2-8d5d-f49ea9b166b3",
   "metadata": {},
   "source": [
    "## EDA on healthcare dataset"
   ]
  },
  {
   "cell_type": "code",
   "execution_count": 46,
   "id": "d76f4aa2-0b14-43e9-ab51-1cae687d9c73",
   "metadata": {},
   "outputs": [],
   "source": [
    "import numpy as np\n",
    "import pandas as  pd\n",
    "import matplotlib.pyplot as plt\n",
    "import seaborn as sns\n",
    "import warnings\n",
    "warnings.filterwarnings('ignore')"
   ]
  },
  {
   "cell_type": "code",
   "execution_count": 131,
   "id": "fde154a3-e6e3-4fc0-a369-3745aa9ebd26",
   "metadata": {},
   "outputs": [
    {
     "data": {
      "text/html": [
       "<div>\n",
       "<style scoped>\n",
       "    .dataframe tbody tr th:only-of-type {\n",
       "        vertical-align: middle;\n",
       "    }\n",
       "\n",
       "    .dataframe tbody tr th {\n",
       "        vertical-align: top;\n",
       "    }\n",
       "\n",
       "    .dataframe thead th {\n",
       "        text-align: right;\n",
       "    }\n",
       "</style>\n",
       "<table border=\"1\" class=\"dataframe\">\n",
       "  <thead>\n",
       "    <tr style=\"text-align: right;\">\n",
       "      <th></th>\n",
       "      <th>PatientId</th>\n",
       "      <th>AppointmentID</th>\n",
       "      <th>Gender</th>\n",
       "      <th>ScheduledDay</th>\n",
       "      <th>AppointmentDay</th>\n",
       "      <th>Age</th>\n",
       "      <th>Neighbourhood</th>\n",
       "      <th>Scholarship</th>\n",
       "      <th>Hipertension</th>\n",
       "      <th>Diabetes</th>\n",
       "      <th>Alcoholism</th>\n",
       "      <th>Handcap</th>\n",
       "      <th>SMS_received</th>\n",
       "      <th>No-show</th>\n",
       "    </tr>\n",
       "  </thead>\n",
       "  <tbody>\n",
       "    <tr>\n",
       "      <th>0</th>\n",
       "      <td>2.987250e+13</td>\n",
       "      <td>5642903</td>\n",
       "      <td>F</td>\n",
       "      <td>2016-04-29T18:38:08Z</td>\n",
       "      <td>2016-04-29T00:00:00Z</td>\n",
       "      <td>62</td>\n",
       "      <td>JARDIM DA PENHA</td>\n",
       "      <td>0</td>\n",
       "      <td>1</td>\n",
       "      <td>0</td>\n",
       "      <td>0</td>\n",
       "      <td>0</td>\n",
       "      <td>0</td>\n",
       "      <td>No</td>\n",
       "    </tr>\n",
       "    <tr>\n",
       "      <th>1</th>\n",
       "      <td>5.589978e+14</td>\n",
       "      <td>5642503</td>\n",
       "      <td>M</td>\n",
       "      <td>2016-04-29T16:08:27Z</td>\n",
       "      <td>2016-04-29T00:00:00Z</td>\n",
       "      <td>56</td>\n",
       "      <td>JARDIM DA PENHA</td>\n",
       "      <td>0</td>\n",
       "      <td>0</td>\n",
       "      <td>0</td>\n",
       "      <td>0</td>\n",
       "      <td>0</td>\n",
       "      <td>0</td>\n",
       "      <td>No</td>\n",
       "    </tr>\n",
       "    <tr>\n",
       "      <th>2</th>\n",
       "      <td>4.262962e+12</td>\n",
       "      <td>5642549</td>\n",
       "      <td>F</td>\n",
       "      <td>2016-04-29T16:19:04Z</td>\n",
       "      <td>2016-04-29T00:00:00Z</td>\n",
       "      <td>62</td>\n",
       "      <td>MATA DA PRAIA</td>\n",
       "      <td>0</td>\n",
       "      <td>0</td>\n",
       "      <td>0</td>\n",
       "      <td>0</td>\n",
       "      <td>0</td>\n",
       "      <td>0</td>\n",
       "      <td>No</td>\n",
       "    </tr>\n",
       "    <tr>\n",
       "      <th>3</th>\n",
       "      <td>8.679512e+11</td>\n",
       "      <td>5642828</td>\n",
       "      <td>F</td>\n",
       "      <td>2016-04-29T17:29:31Z</td>\n",
       "      <td>2016-04-29T00:00:00Z</td>\n",
       "      <td>8</td>\n",
       "      <td>PONTAL DE CAMBURI</td>\n",
       "      <td>0</td>\n",
       "      <td>0</td>\n",
       "      <td>0</td>\n",
       "      <td>0</td>\n",
       "      <td>0</td>\n",
       "      <td>0</td>\n",
       "      <td>No</td>\n",
       "    </tr>\n",
       "    <tr>\n",
       "      <th>4</th>\n",
       "      <td>8.841186e+12</td>\n",
       "      <td>5642494</td>\n",
       "      <td>F</td>\n",
       "      <td>2016-04-29T16:07:23Z</td>\n",
       "      <td>2016-04-29T00:00:00Z</td>\n",
       "      <td>56</td>\n",
       "      <td>JARDIM DA PENHA</td>\n",
       "      <td>0</td>\n",
       "      <td>1</td>\n",
       "      <td>1</td>\n",
       "      <td>0</td>\n",
       "      <td>0</td>\n",
       "      <td>0</td>\n",
       "      <td>No</td>\n",
       "    </tr>\n",
       "  </tbody>\n",
       "</table>\n",
       "</div>"
      ],
      "text/plain": [
       "      PatientId  AppointmentID Gender          ScheduledDay  \\\n",
       "0  2.987250e+13        5642903      F  2016-04-29T18:38:08Z   \n",
       "1  5.589978e+14        5642503      M  2016-04-29T16:08:27Z   \n",
       "2  4.262962e+12        5642549      F  2016-04-29T16:19:04Z   \n",
       "3  8.679512e+11        5642828      F  2016-04-29T17:29:31Z   \n",
       "4  8.841186e+12        5642494      F  2016-04-29T16:07:23Z   \n",
       "\n",
       "         AppointmentDay  Age      Neighbourhood  Scholarship  Hipertension  \\\n",
       "0  2016-04-29T00:00:00Z   62    JARDIM DA PENHA            0             1   \n",
       "1  2016-04-29T00:00:00Z   56    JARDIM DA PENHA            0             0   \n",
       "2  2016-04-29T00:00:00Z   62      MATA DA PRAIA            0             0   \n",
       "3  2016-04-29T00:00:00Z    8  PONTAL DE CAMBURI            0             0   \n",
       "4  2016-04-29T00:00:00Z   56    JARDIM DA PENHA            0             1   \n",
       "\n",
       "   Diabetes  Alcoholism  Handcap  SMS_received No-show  \n",
       "0         0           0        0             0      No  \n",
       "1         0           0        0             0      No  \n",
       "2         0           0        0             0      No  \n",
       "3         0           0        0             0      No  \n",
       "4         1           0        0             0      No  "
      ]
     },
     "execution_count": 131,
     "metadata": {},
     "output_type": "execute_result"
    }
   ],
   "source": [
    "df = pd.read_csv('../Machine-learning/Datasets/healthcare_Data.csv')\n",
    "df.head()"
   ]
  },
  {
   "cell_type": "code",
   "execution_count": 132,
   "id": "f73889eb-bf39-45e1-b8a3-0e113d6de770",
   "metadata": {},
   "outputs": [],
   "source": [
    "df.drop(columns=['PatientId','AppointmentID'],inplace=True)"
   ]
  },
  {
   "cell_type": "code",
   "execution_count": 133,
   "id": "8e3329d8-ac4d-44e7-9d05-2fda0e773bc8",
   "metadata": {},
   "outputs": [
    {
     "data": {
      "text/plain": [
       "(110527, 12)"
      ]
     },
     "execution_count": 133,
     "metadata": {},
     "output_type": "execute_result"
    }
   ],
   "source": [
    "df.shape"
   ]
  },
  {
   "cell_type": "code",
   "execution_count": 19,
   "id": "cb501e78-e675-455d-b893-44fc27ab05f0",
   "metadata": {},
   "outputs": [
    {
     "data": {
      "text/plain": [
       "Gender            0\n",
       "ScheduledDay      0\n",
       "AppointmentDay    0\n",
       "Age               0\n",
       "Neighbourhood     0\n",
       "Scholarship       0\n",
       "Hipertension      0\n",
       "Diabetes          0\n",
       "Alcoholism        0\n",
       "Handcap           0\n",
       "SMS_received      0\n",
       "No-show           0\n",
       "dtype: int64"
      ]
     },
     "execution_count": 19,
     "metadata": {},
     "output_type": "execute_result"
    }
   ],
   "source": [
    "df.isnull().sum()"
   ]
  },
  {
   "cell_type": "code",
   "execution_count": 134,
   "id": "cd7dc58d-5f76-4519-a062-eed3ab8bc795",
   "metadata": {},
   "outputs": [
    {
     "data": {
      "text/plain": [
       "635"
      ]
     },
     "execution_count": 134,
     "metadata": {},
     "output_type": "execute_result"
    }
   ],
   "source": [
    "df.duplicated().sum()"
   ]
  },
  {
   "cell_type": "code",
   "execution_count": 135,
   "id": "242cc4c6-a621-4626-a08d-d68320b2c0f4",
   "metadata": {},
   "outputs": [],
   "source": [
    "df = df.drop_duplicates()"
   ]
  },
  {
   "cell_type": "code",
   "execution_count": 136,
   "id": "6159ea82-a062-419e-b604-5b8cc275c5e4",
   "metadata": {},
   "outputs": [
    {
     "data": {
      "text/plain": [
       "0"
      ]
     },
     "execution_count": 136,
     "metadata": {},
     "output_type": "execute_result"
    }
   ],
   "source": [
    "df.duplicated().sum()"
   ]
  },
  {
   "cell_type": "code",
   "execution_count": 23,
   "id": "2c8285a7-00a9-408e-88f5-a55757b9cb2f",
   "metadata": {},
   "outputs": [
    {
     "data": {
      "text/plain": [
       "(109892, 12)"
      ]
     },
     "execution_count": 23,
     "metadata": {},
     "output_type": "execute_result"
    }
   ],
   "source": [
    "df.shape"
   ]
  },
  {
   "cell_type": "code",
   "execution_count": 137,
   "id": "3caf37f4-4675-4928-a35b-dd11d44c0952",
   "metadata": {},
   "outputs": [
    {
     "data": {
      "text/html": [
       "<div>\n",
       "<style scoped>\n",
       "    .dataframe tbody tr th:only-of-type {\n",
       "        vertical-align: middle;\n",
       "    }\n",
       "\n",
       "    .dataframe tbody tr th {\n",
       "        vertical-align: top;\n",
       "    }\n",
       "\n",
       "    .dataframe thead th {\n",
       "        text-align: right;\n",
       "    }\n",
       "</style>\n",
       "<table border=\"1\" class=\"dataframe\">\n",
       "  <thead>\n",
       "    <tr style=\"text-align: right;\">\n",
       "      <th></th>\n",
       "      <th>Age</th>\n",
       "      <th>Scholarship</th>\n",
       "      <th>Hipertension</th>\n",
       "      <th>Diabetes</th>\n",
       "      <th>Alcoholism</th>\n",
       "      <th>Handcap</th>\n",
       "      <th>SMS_received</th>\n",
       "    </tr>\n",
       "  </thead>\n",
       "  <tbody>\n",
       "    <tr>\n",
       "      <th>count</th>\n",
       "      <td>109892.000000</td>\n",
       "      <td>109892.000000</td>\n",
       "      <td>109892.000000</td>\n",
       "      <td>109892.000000</td>\n",
       "      <td>109892.000000</td>\n",
       "      <td>109892.000000</td>\n",
       "      <td>109892.000000</td>\n",
       "    </tr>\n",
       "    <tr>\n",
       "      <th>mean</th>\n",
       "      <td>37.089506</td>\n",
       "      <td>0.098287</td>\n",
       "      <td>0.197248</td>\n",
       "      <td>0.071825</td>\n",
       "      <td>0.030430</td>\n",
       "      <td>0.022131</td>\n",
       "      <td>0.322881</td>\n",
       "    </tr>\n",
       "    <tr>\n",
       "      <th>std</th>\n",
       "      <td>23.121196</td>\n",
       "      <td>0.297704</td>\n",
       "      <td>0.397923</td>\n",
       "      <td>0.258199</td>\n",
       "      <td>0.171768</td>\n",
       "      <td>0.160878</td>\n",
       "      <td>0.467580</td>\n",
       "    </tr>\n",
       "    <tr>\n",
       "      <th>min</th>\n",
       "      <td>-1.000000</td>\n",
       "      <td>0.000000</td>\n",
       "      <td>0.000000</td>\n",
       "      <td>0.000000</td>\n",
       "      <td>0.000000</td>\n",
       "      <td>0.000000</td>\n",
       "      <td>0.000000</td>\n",
       "    </tr>\n",
       "    <tr>\n",
       "      <th>25%</th>\n",
       "      <td>18.000000</td>\n",
       "      <td>0.000000</td>\n",
       "      <td>0.000000</td>\n",
       "      <td>0.000000</td>\n",
       "      <td>0.000000</td>\n",
       "      <td>0.000000</td>\n",
       "      <td>0.000000</td>\n",
       "    </tr>\n",
       "    <tr>\n",
       "      <th>50%</th>\n",
       "      <td>37.000000</td>\n",
       "      <td>0.000000</td>\n",
       "      <td>0.000000</td>\n",
       "      <td>0.000000</td>\n",
       "      <td>0.000000</td>\n",
       "      <td>0.000000</td>\n",
       "      <td>0.000000</td>\n",
       "    </tr>\n",
       "    <tr>\n",
       "      <th>75%</th>\n",
       "      <td>55.000000</td>\n",
       "      <td>0.000000</td>\n",
       "      <td>0.000000</td>\n",
       "      <td>0.000000</td>\n",
       "      <td>0.000000</td>\n",
       "      <td>0.000000</td>\n",
       "      <td>1.000000</td>\n",
       "    </tr>\n",
       "    <tr>\n",
       "      <th>max</th>\n",
       "      <td>115.000000</td>\n",
       "      <td>1.000000</td>\n",
       "      <td>1.000000</td>\n",
       "      <td>1.000000</td>\n",
       "      <td>1.000000</td>\n",
       "      <td>4.000000</td>\n",
       "      <td>1.000000</td>\n",
       "    </tr>\n",
       "  </tbody>\n",
       "</table>\n",
       "</div>"
      ],
      "text/plain": [
       "                 Age    Scholarship   Hipertension       Diabetes  \\\n",
       "count  109892.000000  109892.000000  109892.000000  109892.000000   \n",
       "mean       37.089506       0.098287       0.197248       0.071825   \n",
       "std        23.121196       0.297704       0.397923       0.258199   \n",
       "min        -1.000000       0.000000       0.000000       0.000000   \n",
       "25%        18.000000       0.000000       0.000000       0.000000   \n",
       "50%        37.000000       0.000000       0.000000       0.000000   \n",
       "75%        55.000000       0.000000       0.000000       0.000000   \n",
       "max       115.000000       1.000000       1.000000       1.000000   \n",
       "\n",
       "          Alcoholism        Handcap   SMS_received  \n",
       "count  109892.000000  109892.000000  109892.000000  \n",
       "mean        0.030430       0.022131       0.322881  \n",
       "std         0.171768       0.160878       0.467580  \n",
       "min         0.000000       0.000000       0.000000  \n",
       "25%         0.000000       0.000000       0.000000  \n",
       "50%         0.000000       0.000000       0.000000  \n",
       "75%         0.000000       0.000000       1.000000  \n",
       "max         1.000000       4.000000       1.000000  "
      ]
     },
     "execution_count": 137,
     "metadata": {},
     "output_type": "execute_result"
    }
   ],
   "source": [
    "df.describe()"
   ]
  },
  {
   "cell_type": "code",
   "execution_count": 31,
   "id": "6feac461-2436-4a18-9450-ba59ac974172",
   "metadata": {},
   "outputs": [
    {
     "data": {
      "text/html": [
       "<div>\n",
       "<style scoped>\n",
       "    .dataframe tbody tr th:only-of-type {\n",
       "        vertical-align: middle;\n",
       "    }\n",
       "\n",
       "    .dataframe tbody tr th {\n",
       "        vertical-align: top;\n",
       "    }\n",
       "\n",
       "    .dataframe thead th {\n",
       "        text-align: right;\n",
       "    }\n",
       "</style>\n",
       "<table border=\"1\" class=\"dataframe\">\n",
       "  <thead>\n",
       "    <tr style=\"text-align: right;\">\n",
       "      <th></th>\n",
       "      <th>Gender</th>\n",
       "      <th>ScheduledDay</th>\n",
       "      <th>AppointmentDay</th>\n",
       "      <th>Age</th>\n",
       "      <th>Neighbourhood</th>\n",
       "      <th>Scholarship</th>\n",
       "      <th>Hipertension</th>\n",
       "      <th>Diabetes</th>\n",
       "      <th>Alcoholism</th>\n",
       "      <th>Handcap</th>\n",
       "      <th>SMS_received</th>\n",
       "      <th>No-show</th>\n",
       "    </tr>\n",
       "  </thead>\n",
       "  <tbody>\n",
       "    <tr>\n",
       "      <th>99832</th>\n",
       "      <td>F</td>\n",
       "      <td>2016-06-06T08:58:13Z</td>\n",
       "      <td>2016-06-06T00:00:00Z</td>\n",
       "      <td>-1</td>\n",
       "      <td>ROMÃO</td>\n",
       "      <td>0</td>\n",
       "      <td>0</td>\n",
       "      <td>0</td>\n",
       "      <td>0</td>\n",
       "      <td>0</td>\n",
       "      <td>0</td>\n",
       "      <td>No</td>\n",
       "    </tr>\n",
       "  </tbody>\n",
       "</table>\n",
       "</div>"
      ],
      "text/plain": [
       "      Gender          ScheduledDay        AppointmentDay  Age Neighbourhood  \\\n",
       "99832      F  2016-06-06T08:58:13Z  2016-06-06T00:00:00Z   -1         ROMÃO   \n",
       "\n",
       "       Scholarship  Hipertension  Diabetes  Alcoholism  Handcap  SMS_received  \\\n",
       "99832            0             0         0           0        0             0   \n",
       "\n",
       "      No-show  \n",
       "99832      No  "
      ]
     },
     "execution_count": 31,
     "metadata": {},
     "output_type": "execute_result"
    }
   ],
   "source": [
    "df[(df['Age']<0)]"
   ]
  },
  {
   "cell_type": "code",
   "execution_count": 44,
   "id": "bd3d459b-05d7-46a5-a910-cc9760eaccfc",
   "metadata": {},
   "outputs": [
    {
     "name": "stdout",
     "output_type": "stream",
     "text": [
      "<class 'pandas.core.frame.DataFrame'>\n",
      "Index: 109892 entries, 0 to 110526\n",
      "Data columns (total 12 columns):\n",
      " #   Column          Non-Null Count   Dtype \n",
      "---  ------          --------------   ----- \n",
      " 0   Gender          109892 non-null  int64 \n",
      " 1   ScheduledDay    109892 non-null  object\n",
      " 2   AppointmentDay  109892 non-null  object\n",
      " 3   Age             109892 non-null  int64 \n",
      " 4   Neighbourhood   109892 non-null  object\n",
      " 5   Scholarship     109892 non-null  int64 \n",
      " 6   Hipertension    109892 non-null  int64 \n",
      " 7   Diabetes        109892 non-null  int64 \n",
      " 8   Alcoholism      109892 non-null  int64 \n",
      " 9   Handcap         109892 non-null  int64 \n",
      " 10  SMS_received    109892 non-null  int64 \n",
      " 11  No-show         109892 non-null  object\n",
      "dtypes: int64(8), object(4)\n",
      "memory usage: 10.9+ MB\n"
     ]
    }
   ],
   "source": [
    "df.info()"
   ]
  },
  {
   "cell_type": "markdown",
   "id": "9d6ca106-75db-4d5d-8170-5bf5fe36a98d",
   "metadata": {},
   "source": [
    "## Gender"
   ]
  },
  {
   "cell_type": "code",
   "execution_count": 138,
   "id": "31978262-59fa-41df-aa6c-05edd029a917",
   "metadata": {},
   "outputs": [],
   "source": [
    "df['Gender'] = df['Gender'].apply(lambda x:1 if x =='F' else 0)"
   ]
  },
  {
   "cell_type": "code",
   "execution_count": 139,
   "id": "20cf5dad-59e7-44ce-acb8-a8a035108c7d",
   "metadata": {},
   "outputs": [
    {
     "data": {
      "image/png": "[encoded data removed]",
      "text/plain": [
       "<Figure size 640x480 with 1 Axes>"
      ]
     },
     "metadata": {},
     "output_type": "display_data"
    }
   ],
   "source": [
    "sns.barplot(x='Gender',y='Age',data=df,hue='Gender')\n",
    "plt.show()"
   ]
  },
  {
   "cell_type": "markdown",
   "id": "481e9a4d-3b49-49ef-95fb-e9db0e7e8c07",
   "metadata": {},
   "source": [
    "## ScheduledDay & AppointmentDay 's format"
   ]
  },
  {
   "cell_type": "code",
   "execution_count": 140,
   "id": "35fc8349-e181-48a7-8313-f981a9a4648b",
   "metadata": {},
   "outputs": [],
   "source": [
    "df['ScheduledDay'] = pd.to_datetime( df['ScheduledDay']).dt.date.astype('datetime64[ns]')\n",
    "df['AppointmentDay'] = pd.to_datetime( df['AppointmentDay']).dt.date.astype('datetime64[ns]')"
   ]
  },
  {
   "cell_type": "code",
   "execution_count": 141,
   "id": "40945bd3-8dae-4f07-9a9e-ae6c59ea3a42",
   "metadata": {},
   "outputs": [
    {
     "data": {
      "text/html": [
       "<div>\n",
       "<style scoped>\n",
       "    .dataframe tbody tr th:only-of-type {\n",
       "        vertical-align: middle;\n",
       "    }\n",
       "\n",
       "    .dataframe tbody tr th {\n",
       "        vertical-align: top;\n",
       "    }\n",
       "\n",
       "    .dataframe thead th {\n",
       "        text-align: right;\n",
       "    }\n",
       "</style>\n",
       "<table border=\"1\" class=\"dataframe\">\n",
       "  <thead>\n",
       "    <tr style=\"text-align: right;\">\n",
       "      <th></th>\n",
       "      <th>Gender</th>\n",
       "      <th>ScheduledDay</th>\n",
       "      <th>AppointmentDay</th>\n",
       "      <th>Age</th>\n",
       "      <th>Neighbourhood</th>\n",
       "      <th>Scholarship</th>\n",
       "      <th>Hipertension</th>\n",
       "      <th>Diabetes</th>\n",
       "      <th>Alcoholism</th>\n",
       "      <th>Handcap</th>\n",
       "      <th>SMS_received</th>\n",
       "      <th>No-show</th>\n",
       "    </tr>\n",
       "  </thead>\n",
       "  <tbody>\n",
       "    <tr>\n",
       "      <th>0</th>\n",
       "      <td>1</td>\n",
       "      <td>2016-04-29</td>\n",
       "      <td>2016-04-29</td>\n",
       "      <td>62</td>\n",
       "      <td>JARDIM DA PENHA</td>\n",
       "      <td>0</td>\n",
       "      <td>1</td>\n",
       "      <td>0</td>\n",
       "      <td>0</td>\n",
       "      <td>0</td>\n",
       "      <td>0</td>\n",
       "      <td>No</td>\n",
       "    </tr>\n",
       "  </tbody>\n",
       "</table>\n",
       "</div>"
      ],
      "text/plain": [
       "   Gender ScheduledDay AppointmentDay  Age    Neighbourhood  Scholarship  \\\n",
       "0       1   2016-04-29     2016-04-29   62  JARDIM DA PENHA            0   \n",
       "\n",
       "   Hipertension  Diabetes  Alcoholism  Handcap  SMS_received No-show  \n",
       "0             1         0           0        0             0      No  "
      ]
     },
     "execution_count": 141,
     "metadata": {},
     "output_type": "execute_result"
    }
   ],
   "source": [
    "df.head(1)"
   ]
  },
  {
   "cell_type": "code",
   "execution_count": 142,
   "id": "35a461fd-01d3-46b0-81ef-db868c69e6d2",
   "metadata": {},
   "outputs": [],
   "source": [
    "df['sch_week'] = df['ScheduledDay'].dt.dayofweek # 0--> Monday ------ 6--> Sunday \n",
    "df['app_week'] = df['AppointmentDay'].dt.dayofweek"
   ]
  },
  {
   "cell_type": "code",
   "execution_count": 143,
   "id": "56a72f3f-e6d9-48ec-9aeb-bb528ebb6763",
   "metadata": {},
   "outputs": [
    {
     "data": {
      "text/plain": [
       "app_week\n",
       "2    25739\n",
       "1    25507\n",
       "0    22574\n",
       "4    18859\n",
       "3    17174\n",
       "5       39\n",
       "Name: count, dtype: int64"
      ]
     },
     "execution_count": 143,
     "metadata": {},
     "output_type": "execute_result"
    }
   ],
   "source": [
    "df['app_week'].value_counts()"
   ]
  },
  {
   "cell_type": "code",
   "execution_count": 144,
   "id": "f8367d29-edf5-4352-9547-f6c31a750a87",
   "metadata": {},
   "outputs": [
    {
     "data": {
      "image/png": "[encoded data removed]",
      "text/plain": [
       "<Figure size 1200x400 with 2 Axes>"
      ]
     },
     "metadata": {},
     "output_type": "display_data"
    }
   ],
   "source": [
    "plt.figure(figsize=(12,4))\n",
    "plt.subplot(121)\n",
    "sns.barplot(y=df['sch_week'].value_counts().values,x=df['sch_week'].value_counts().index,hue=df['sch_week'].value_counts().index)\n",
    "plt.ylabel('counts')\n",
    "\n",
    "plt.subplot(122)\n",
    "sns.barplot(y=df['app_week'].value_counts().values,x=df['app_week'].value_counts().index,hue=df['app_week'].value_counts().index)\n",
    "plt.ylabel('counts')\n",
    "plt.show()"
   ]
  },
  {
   "cell_type": "markdown",
   "id": "8db196ef-00a5-4e45-84c8-abb23be5f164",
   "metadata": {},
   "source": [
    "observation: \n",
    "1. From upper image,Scheduled week we can obseve that most of the shedule will occur on Tuesday.\n",
    "2. Here also in image,Appointment week we can observe that most of the appointment will cover on Tuesday and Wednesday."
   ]
  },
  {
   "cell_type": "code",
   "execution_count": 145,
   "id": "3bd9a304-156f-45f9-9f96-1ac1d5df5e23",
   "metadata": {},
   "outputs": [],
   "source": [
    "df.drop(columns=['ScheduledDay','AppointmentDay','Neighbourhood'],inplace=True)"
   ]
  },
  {
   "cell_type": "code",
   "execution_count": 146,
   "id": "5c970a12-af1e-4c87-8da0-19be3f9af115",
   "metadata": {},
   "outputs": [
    {
     "data": {
      "text/html": [
       "<div>\n",
       "<style scoped>\n",
       "    .dataframe tbody tr th:only-of-type {\n",
       "        vertical-align: middle;\n",
       "    }\n",
       "\n",
       "    .dataframe tbody tr th {\n",
       "        vertical-align: top;\n",
       "    }\n",
       "\n",
       "    .dataframe thead th {\n",
       "        text-align: right;\n",
       "    }\n",
       "</style>\n",
       "<table border=\"1\" class=\"dataframe\">\n",
       "  <thead>\n",
       "    <tr style=\"text-align: right;\">\n",
       "      <th></th>\n",
       "      <th>Gender</th>\n",
       "      <th>Age</th>\n",
       "      <th>Scholarship</th>\n",
       "      <th>Hipertension</th>\n",
       "      <th>Diabetes</th>\n",
       "      <th>Alcoholism</th>\n",
       "      <th>Handcap</th>\n",
       "      <th>SMS_received</th>\n",
       "      <th>No-show</th>\n",
       "      <th>sch_week</th>\n",
       "      <th>app_week</th>\n",
       "    </tr>\n",
       "  </thead>\n",
       "  <tbody>\n",
       "    <tr>\n",
       "      <th>0</th>\n",
       "      <td>1</td>\n",
       "      <td>62</td>\n",
       "      <td>0</td>\n",
       "      <td>1</td>\n",
       "      <td>0</td>\n",
       "      <td>0</td>\n",
       "      <td>0</td>\n",
       "      <td>0</td>\n",
       "      <td>No</td>\n",
       "      <td>4</td>\n",
       "      <td>4</td>\n",
       "    </tr>\n",
       "  </tbody>\n",
       "</table>\n",
       "</div>"
      ],
      "text/plain": [
       "   Gender  Age  Scholarship  Hipertension  Diabetes  Alcoholism  Handcap  \\\n",
       "0       1   62            0             1         0           0        0   \n",
       "\n",
       "   SMS_received No-show  sch_week  app_week  \n",
       "0             0      No         4         4  "
      ]
     },
     "execution_count": 146,
     "metadata": {},
     "output_type": "execute_result"
    }
   ],
   "source": [
    "df.head(1)"
   ]
  },
  {
   "cell_type": "markdown",
   "id": "b30d0656-21ef-49ad-9945-cd9611fff668",
   "metadata": {},
   "source": [
    "## No-show"
   ]
  },
  {
   "cell_type": "code",
   "execution_count": 147,
   "id": "5e4e5d2b-0444-4efa-b996-7b4002d80122",
   "metadata": {},
   "outputs": [],
   "source": [
    "df['No-show'] = df['No-show'].apply(lambda x:1 if x =='Yes' else 0)"
   ]
  },
  {
   "cell_type": "code",
   "execution_count": 148,
   "id": "4be3f35f-00d9-4df2-b4ef-cc03bb751420",
   "metadata": {},
   "outputs": [
    {
     "data": {
      "text/plain": [
       "Text(0, 0.5, 'Count')"
      ]
     },
     "execution_count": 148,
     "metadata": {},
     "output_type": "execute_result"
    },
    {
     "data": {
      "image/png": "[encoded data removed]",
      "text/plain": [
       "<Figure size 640x480 with 1 Axes>"
      ]
     },
     "metadata": {},
     "output_type": "display_data"
    }
   ],
   "source": [
    "df['No-show'].value_counts().plot(kind='bar')\n",
    "plt.ylabel('Count')"
   ]
  },
  {
   "cell_type": "code",
   "execution_count": 151,
   "id": "a2d9ad16-f6cf-49c4-ad7d-22de437826a3",
   "metadata": {},
   "outputs": [
    {
     "data": {
      "text/plain": [
       "No-show\n",
       "0    79.891166\n",
       "1    20.108834\n",
       "Name: count, dtype: float64"
      ]
     },
     "execution_count": 151,
     "metadata": {},
     "output_type": "execute_result"
    }
   ],
   "source": [
    "# calculating the % of appointment or not:-\n",
    "\n",
    "100*(df['No-show'].value_counts()/len(df['No-show']))"
   ]
  },
  {
   "cell_type": "code",
   "execution_count": 152,
   "id": "1c06680d-b1b7-48d8-b863-c0d73803dc0e",
   "metadata": {},
   "outputs": [
    {
     "data": {
      "text/plain": [
       "No-show\n",
       "0    87794\n",
       "1    22098\n",
       "Name: count, dtype: int64"
      ]
     },
     "execution_count": 152,
     "metadata": {},
     "output_type": "execute_result"
    }
   ],
   "source": [
    "df['No-show'].value_counts()"
   ]
  },
  {
   "cell_type": "markdown",
   "id": "524f95d8-0209-4b95-8e1c-b2fe47818f80",
   "metadata": {},
   "source": [
    "observation:- Only 20 % people take appointment,which is just 22098"
   ]
  },
  {
   "cell_type": "code",
   "execution_count": 153,
   "id": "4dece427-7ccf-474c-a2ea-84980d030e2d",
   "metadata": {},
   "outputs": [
    {
     "data": {
      "text/plain": [
       "<Axes: >"
      ]
     },
     "execution_count": 153,
     "metadata": {},
     "output_type": "execute_result"
    },
    {
     "data": {
      "image/png": "[encoded data removed]",
      "text/plain": [
       "<Figure size 640x480 with 2 Axes>"
      ]
     },
     "metadata": {},
     "output_type": "display_data"
    }
   ],
   "source": [
    "sns.heatmap(df.corr(numeric_only=True))"
   ]
  },
  {
   "cell_type": "code",
   "execution_count": 154,
   "id": "82b4f4f3-efc3-4972-97f2-839a26d18b86",
   "metadata": {},
   "outputs": [
    {
     "data": {
      "text/html": [
       "<div>\n",
       "<style scoped>\n",
       "    .dataframe tbody tr th:only-of-type {\n",
       "        vertical-align: middle;\n",
       "    }\n",
       "\n",
       "    .dataframe tbody tr th {\n",
       "        vertical-align: top;\n",
       "    }\n",
       "\n",
       "    .dataframe thead th {\n",
       "        text-align: right;\n",
       "    }\n",
       "</style>\n",
       "<table border=\"1\" class=\"dataframe\">\n",
       "  <thead>\n",
       "    <tr style=\"text-align: right;\">\n",
       "      <th></th>\n",
       "      <th>Gender</th>\n",
       "      <th>Age</th>\n",
       "      <th>Scholarship</th>\n",
       "      <th>Hipertension</th>\n",
       "      <th>Diabetes</th>\n",
       "      <th>Alcoholism</th>\n",
       "      <th>Handcap</th>\n",
       "      <th>SMS_received</th>\n",
       "      <th>No-show</th>\n",
       "      <th>sch_week</th>\n",
       "      <th>app_week</th>\n",
       "    </tr>\n",
       "  </thead>\n",
       "  <tbody>\n",
       "    <tr>\n",
       "      <th>Gender</th>\n",
       "      <td>1.000000</td>\n",
       "      <td>0.106351</td>\n",
       "      <td>0.114487</td>\n",
       "      <td>0.056146</td>\n",
       "      <td>0.033061</td>\n",
       "      <td>-0.106200</td>\n",
       "      <td>-0.022592</td>\n",
       "      <td>0.046627</td>\n",
       "      <td>0.004468</td>\n",
       "      <td>-0.005374</td>\n",
       "      <td>-0.004507</td>\n",
       "    </tr>\n",
       "    <tr>\n",
       "      <th>Age</th>\n",
       "      <td>0.106351</td>\n",
       "      <td>1.000000</td>\n",
       "      <td>-0.092467</td>\n",
       "      <td>0.504550</td>\n",
       "      <td>0.292419</td>\n",
       "      <td>0.095696</td>\n",
       "      <td>0.077523</td>\n",
       "      <td>0.012672</td>\n",
       "      <td>-0.060878</td>\n",
       "      <td>0.011117</td>\n",
       "      <td>0.003490</td>\n",
       "    </tr>\n",
       "    <tr>\n",
       "      <th>Scholarship</th>\n",
       "      <td>0.114487</td>\n",
       "      <td>-0.092467</td>\n",
       "      <td>1.000000</td>\n",
       "      <td>-0.019702</td>\n",
       "      <td>-0.024835</td>\n",
       "      <td>0.034404</td>\n",
       "      <td>-0.008937</td>\n",
       "      <td>0.001148</td>\n",
       "      <td>0.029288</td>\n",
       "      <td>-0.004987</td>\n",
       "      <td>-0.000874</td>\n",
       "    </tr>\n",
       "    <tr>\n",
       "      <th>Hipertension</th>\n",
       "      <td>0.056146</td>\n",
       "      <td>0.504550</td>\n",
       "      <td>-0.019702</td>\n",
       "      <td>1.000000</td>\n",
       "      <td>0.432938</td>\n",
       "      <td>0.087790</td>\n",
       "      <td>0.080497</td>\n",
       "      <td>-0.006297</td>\n",
       "      <td>-0.035990</td>\n",
       "      <td>0.000651</td>\n",
       "      <td>0.003589</td>\n",
       "    </tr>\n",
       "    <tr>\n",
       "      <th>Diabetes</th>\n",
       "      <td>0.033061</td>\n",
       "      <td>0.292419</td>\n",
       "      <td>-0.024835</td>\n",
       "      <td>0.432938</td>\n",
       "      <td>1.000000</td>\n",
       "      <td>0.018634</td>\n",
       "      <td>0.058124</td>\n",
       "      <td>-0.014509</td>\n",
       "      <td>-0.014525</td>\n",
       "      <td>-0.000391</td>\n",
       "      <td>0.006550</td>\n",
       "    </tr>\n",
       "    <tr>\n",
       "      <th>Alcoholism</th>\n",
       "      <td>-0.106200</td>\n",
       "      <td>0.095696</td>\n",
       "      <td>0.034404</td>\n",
       "      <td>0.087790</td>\n",
       "      <td>0.018634</td>\n",
       "      <td>1.000000</td>\n",
       "      <td>0.002962</td>\n",
       "      <td>-0.026367</td>\n",
       "      <td>-0.000587</td>\n",
       "      <td>0.006544</td>\n",
       "      <td>0.003327</td>\n",
       "    </tr>\n",
       "    <tr>\n",
       "      <th>Handcap</th>\n",
       "      <td>-0.022592</td>\n",
       "      <td>0.077523</td>\n",
       "      <td>-0.008937</td>\n",
       "      <td>0.080497</td>\n",
       "      <td>0.058124</td>\n",
       "      <td>0.002962</td>\n",
       "      <td>1.000000</td>\n",
       "      <td>-0.023861</td>\n",
       "      <td>-0.006216</td>\n",
       "      <td>0.001093</td>\n",
       "      <td>0.004549</td>\n",
       "    </tr>\n",
       "    <tr>\n",
       "      <th>SMS_received</th>\n",
       "      <td>0.046627</td>\n",
       "      <td>0.012672</td>\n",
       "      <td>0.001148</td>\n",
       "      <td>-0.006297</td>\n",
       "      <td>-0.014509</td>\n",
       "      <td>-0.026367</td>\n",
       "      <td>-0.023861</td>\n",
       "      <td>1.000000</td>\n",
       "      <td>0.128622</td>\n",
       "      <td>0.079232</td>\n",
       "      <td>-0.089977</td>\n",
       "    </tr>\n",
       "    <tr>\n",
       "      <th>No-show</th>\n",
       "      <td>0.004468</td>\n",
       "      <td>-0.060878</td>\n",
       "      <td>0.029288</td>\n",
       "      <td>-0.035990</td>\n",
       "      <td>-0.014525</td>\n",
       "      <td>-0.000587</td>\n",
       "      <td>-0.006216</td>\n",
       "      <td>0.128622</td>\n",
       "      <td>1.000000</td>\n",
       "      <td>0.005386</td>\n",
       "      <td>0.001594</td>\n",
       "    </tr>\n",
       "    <tr>\n",
       "      <th>sch_week</th>\n",
       "      <td>-0.005374</td>\n",
       "      <td>0.011117</td>\n",
       "      <td>-0.004987</td>\n",
       "      <td>0.000651</td>\n",
       "      <td>-0.000391</td>\n",
       "      <td>0.006544</td>\n",
       "      <td>0.001093</td>\n",
       "      <td>0.079232</td>\n",
       "      <td>0.005386</td>\n",
       "      <td>1.000000</td>\n",
       "      <td>0.329730</td>\n",
       "    </tr>\n",
       "    <tr>\n",
       "      <th>app_week</th>\n",
       "      <td>-0.004507</td>\n",
       "      <td>0.003490</td>\n",
       "      <td>-0.000874</td>\n",
       "      <td>0.003589</td>\n",
       "      <td>0.006550</td>\n",
       "      <td>0.003327</td>\n",
       "      <td>0.004549</td>\n",
       "      <td>-0.089977</td>\n",
       "      <td>0.001594</td>\n",
       "      <td>0.329730</td>\n",
       "      <td>1.000000</td>\n",
       "    </tr>\n",
       "  </tbody>\n",
       "</table>\n",
       "</div>"
      ],
      "text/plain": [
       "                Gender       Age  Scholarship  Hipertension  Diabetes  \\\n",
       "Gender        1.000000  0.106351     0.114487      0.056146  0.033061   \n",
       "Age           0.106351  1.000000    -0.092467      0.504550  0.292419   \n",
       "Scholarship   0.114487 -0.092467     1.000000     -0.019702 -0.024835   \n",
       "Hipertension  0.056146  0.504550    -0.019702      1.000000  0.432938   \n",
       "Diabetes      0.033061  0.292419    -0.024835      0.432938  1.000000   \n",
       "Alcoholism   -0.106200  0.095696     0.034404      0.087790  0.018634   \n",
       "Handcap      -0.022592  0.077523    -0.008937      0.080497  0.058124   \n",
       "SMS_received  0.046627  0.012672     0.001148     -0.006297 -0.014509   \n",
       "No-show       0.004468 -0.060878     0.029288     -0.035990 -0.014525   \n",
       "sch_week     -0.005374  0.011117    -0.004987      0.000651 -0.000391   \n",
       "app_week     -0.004507  0.003490    -0.000874      0.003589  0.006550   \n",
       "\n",
       "              Alcoholism   Handcap  SMS_received   No-show  sch_week  app_week  \n",
       "Gender         -0.106200 -0.022592      0.046627  0.004468 -0.005374 -0.004507  \n",
       "Age             0.095696  0.077523      0.012672 -0.060878  0.011117  0.003490  \n",
       "Scholarship     0.034404 -0.008937      0.001148  0.029288 -0.004987 -0.000874  \n",
       "Hipertension    0.087790  0.080497     -0.006297 -0.035990  0.000651  0.003589  \n",
       "Diabetes        0.018634  0.058124     -0.014509 -0.014525 -0.000391  0.006550  \n",
       "Alcoholism      1.000000  0.002962     -0.026367 -0.000587  0.006544  0.003327  \n",
       "Handcap         0.002962  1.000000     -0.023861 -0.006216  0.001093  0.004549  \n",
       "SMS_received   -0.026367 -0.023861      1.000000  0.128622  0.079232 -0.089977  \n",
       "No-show        -0.000587 -0.006216      0.128622  1.000000  0.005386  0.001594  \n",
       "sch_week        0.006544  0.001093      0.079232  0.005386  1.000000  0.329730  \n",
       "app_week        0.003327  0.004549     -0.089977  0.001594  0.329730  1.000000  "
      ]
     },
     "execution_count": 154,
     "metadata": {},
     "output_type": "execute_result"
    }
   ],
   "source": [
    "df.corr(numeric_only=True)"
   ]
  },
  {
   "cell_type": "code",
   "execution_count": 155,
   "id": "ce633330-c816-4556-bc99-138a2eaf22ab",
   "metadata": {},
   "outputs": [
    {
     "data": {
      "text/html": [
       "<div>\n",
       "<style scoped>\n",
       "    .dataframe tbody tr th:only-of-type {\n",
       "        vertical-align: middle;\n",
       "    }\n",
       "\n",
       "    .dataframe tbody tr th {\n",
       "        vertical-align: top;\n",
       "    }\n",
       "\n",
       "    .dataframe thead th {\n",
       "        text-align: right;\n",
       "    }\n",
       "</style>\n",
       "<table border=\"1\" class=\"dataframe\">\n",
       "  <thead>\n",
       "    <tr style=\"text-align: right;\">\n",
       "      <th></th>\n",
       "      <th>Gender</th>\n",
       "      <th>Age</th>\n",
       "      <th>Scholarship</th>\n",
       "      <th>Hipertension</th>\n",
       "      <th>Diabetes</th>\n",
       "      <th>Alcoholism</th>\n",
       "      <th>Handcap</th>\n",
       "      <th>SMS_received</th>\n",
       "      <th>No-show</th>\n",
       "      <th>sch_week</th>\n",
       "      <th>app_week</th>\n",
       "    </tr>\n",
       "  </thead>\n",
       "  <tbody>\n",
       "    <tr>\n",
       "      <th>0</th>\n",
       "      <td>1</td>\n",
       "      <td>62</td>\n",
       "      <td>0</td>\n",
       "      <td>1</td>\n",
       "      <td>0</td>\n",
       "      <td>0</td>\n",
       "      <td>0</td>\n",
       "      <td>0</td>\n",
       "      <td>0</td>\n",
       "      <td>4</td>\n",
       "      <td>4</td>\n",
       "    </tr>\n",
       "    <tr>\n",
       "      <th>1</th>\n",
       "      <td>0</td>\n",
       "      <td>56</td>\n",
       "      <td>0</td>\n",
       "      <td>0</td>\n",
       "      <td>0</td>\n",
       "      <td>0</td>\n",
       "      <td>0</td>\n",
       "      <td>0</td>\n",
       "      <td>0</td>\n",
       "      <td>4</td>\n",
       "      <td>4</td>\n",
       "    </tr>\n",
       "    <tr>\n",
       "      <th>2</th>\n",
       "      <td>1</td>\n",
       "      <td>62</td>\n",
       "      <td>0</td>\n",
       "      <td>0</td>\n",
       "      <td>0</td>\n",
       "      <td>0</td>\n",
       "      <td>0</td>\n",
       "      <td>0</td>\n",
       "      <td>0</td>\n",
       "      <td>4</td>\n",
       "      <td>4</td>\n",
       "    </tr>\n",
       "    <tr>\n",
       "      <th>3</th>\n",
       "      <td>1</td>\n",
       "      <td>8</td>\n",
       "      <td>0</td>\n",
       "      <td>0</td>\n",
       "      <td>0</td>\n",
       "      <td>0</td>\n",
       "      <td>0</td>\n",
       "      <td>0</td>\n",
       "      <td>0</td>\n",
       "      <td>4</td>\n",
       "      <td>4</td>\n",
       "    </tr>\n",
       "    <tr>\n",
       "      <th>4</th>\n",
       "      <td>1</td>\n",
       "      <td>56</td>\n",
       "      <td>0</td>\n",
       "      <td>1</td>\n",
       "      <td>1</td>\n",
       "      <td>0</td>\n",
       "      <td>0</td>\n",
       "      <td>0</td>\n",
       "      <td>0</td>\n",
       "      <td>4</td>\n",
       "      <td>4</td>\n",
       "    </tr>\n",
       "  </tbody>\n",
       "</table>\n",
       "</div>"
      ],
      "text/plain": [
       "   Gender  Age  Scholarship  Hipertension  Diabetes  Alcoholism  Handcap  \\\n",
       "0       1   62            0             1         0           0        0   \n",
       "1       0   56            0             0         0           0        0   \n",
       "2       1   62            0             0         0           0        0   \n",
       "3       1    8            0             0         0           0        0   \n",
       "4       1   56            0             1         1           0        0   \n",
       "\n",
       "   SMS_received  No-show  sch_week  app_week  \n",
       "0             0        0         4         4  \n",
       "1             0        0         4         4  \n",
       "2             0        0         4         4  \n",
       "3             0        0         4         4  \n",
       "4             0        0         4         4  "
      ]
     },
     "execution_count": 155,
     "metadata": {},
     "output_type": "execute_result"
    }
   ],
   "source": [
    "df.head()"
   ]
  },
  {
   "cell_type": "code",
   "execution_count": null,
   "id": "e7375362-b84d-46c5-bf65-c4180912603c",
   "metadata": {},
   "outputs": [],
   "source": []
  },
  {
   "cell_type": "code",
   "execution_count": null,
   "id": "4f498847-4eed-4c0e-be35-09da4c9b0c21",
   "metadata": {},
   "outputs": [],
   "source": []
  },
  {
   "cell_type": "code",
   "execution_count": null,
   "id": "90181790-5930-4eb5-b3dc-5663e74eb1de",
   "metadata": {},
   "outputs": [],
   "source": []
  }
 ],
 "metadata": {
  "kernelspec": {
   "display_name": "Python 3 (ipykernel)",
   "language": "python",
   "name": "python3"
  },
  "language_info": {
   "codemirror_mode": {
    "name": "ipython",
    "version": 3
   },
   "file_extension": ".py",
   "mimetype": "text/x-python",
   "name": "python",
   "nbconvert_exporter": "python",
   "pygments_lexer": "ipython3",
   "version": "3.12.2"
  }
 },
 "nbformat": 4,
 "nbformat_minor": 5
}
