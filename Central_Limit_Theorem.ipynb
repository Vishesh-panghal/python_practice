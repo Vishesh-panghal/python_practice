{
 "cells": [
  {
   "cell_type": "code",
   "execution_count": 10,
   "id": "4d5df599-3276-40b9-a099-101b1bfdb7af",
   "metadata": {},
   "outputs": [
    {
     "name": "stderr",
     "output_type": "stream",
     "text": [
      "/var/folders/0y/xzwy9cz54g9b7ghtkf3shzlh0000gn/T/ipykernel_3632/328324305.py:3: DeprecationWarning: \n",
      "Pyarrow will become a required dependency of pandas in the next major release of pandas (pandas 3.0),\n",
      "(to allow more performant data types, such as the Arrow string type, and better interoperability with other libraries)\n",
      "but was not found to be installed on your system.\n",
      "If this would cause problems for you,\n",
      "please provide us feedback at https://github.com/pandas-dev/pandas/issues/54466\n",
      "        \n",
      "  import pandas as pd\n"
     ]
    }
   ],
   "source": [
    "import numpy as np\n",
    "import matplotlib.pyplot as plt\n",
    "import pandas as pd"
   ]
  },
  {
   "cell_type": "markdown",
   "id": "5bc56ae1-07df-4248-a79c-d9fe2c3961c7",
   "metadata": {},
   "source": [
    "### Sampling Distribution"
   ]
  },
  {
   "cell_type": "code",
   "execution_count": 9,
   "id": "4110a74e-6414-40af-bffa-a3d9d9049c6f",
   "metadata": {},
   "outputs": [
    {
     "data": {
      "image/png": "[encoded data removed]",
      "text/plain": [
       "<Figure size 640x480 with 1 Axes>"
      ]
     },
     "metadata": {},
     "output_type": "display_data"
    }
   ],
   "source": [
    "n = 10\n",
    "prob = 0.5\n",
    "size = 5000\n",
    "\n",
    "binomial_dist = np.random.binomial(n,prob,size)\n",
    "plt.hist(binomial_dist,density=True)\n",
    "plt.show()"
   ]
  },
  {
   "cell_type": "markdown",
   "id": "0834714a-11f2-4651-a8af-9faad817d9b9",
   "metadata": {},
   "source": [
    "### Central Limit Theorem"
   ]
  },
  {
   "cell_type": "code",
   "execution_count": 26,
   "id": "0a7ac6bb-b976-4254-a6b7-99b70a9d381a",
   "metadata": {},
   "outputs": [
    {
     "data": {
      "text/html": [
       "<div>\n",
       "<style scoped>\n",
       "    .dataframe tbody tr th:only-of-type {\n",
       "        vertical-align: middle;\n",
       "    }\n",
       "\n",
       "    .dataframe tbody tr th {\n",
       "        vertical-align: top;\n",
       "    }\n",
       "\n",
       "    .dataframe thead th {\n",
       "        text-align: right;\n",
       "    }\n",
       "</style>\n",
       "<table border=\"1\" class=\"dataframe\">\n",
       "  <thead>\n",
       "    <tr style=\"text-align: right;\">\n",
       "      <th></th>\n",
       "      <th>PassengerId</th>\n",
       "      <th>Pclass</th>\n",
       "      <th>Name</th>\n",
       "      <th>Sex</th>\n",
       "      <th>Age</th>\n",
       "      <th>SibSp</th>\n",
       "      <th>Parch</th>\n",
       "      <th>Ticket</th>\n",
       "      <th>Fare</th>\n",
       "      <th>Cabin</th>\n",
       "      <th>Embarked</th>\n",
       "    </tr>\n",
       "  </thead>\n",
       "  <tbody>\n",
       "    <tr>\n",
       "      <th>620</th>\n",
       "      <td>621</td>\n",
       "      <td>3</td>\n",
       "      <td>Yasbeck, Mr. Antoni</td>\n",
       "      <td>male</td>\n",
       "      <td>27.0</td>\n",
       "      <td>1</td>\n",
       "      <td>0</td>\n",
       "      <td>2659</td>\n",
       "      <td>14.4542</td>\n",
       "      <td>NaN</td>\n",
       "      <td>C</td>\n",
       "    </tr>\n",
       "    <tr>\n",
       "      <th>102</th>\n",
       "      <td>103</td>\n",
       "      <td>1</td>\n",
       "      <td>White, Mr. Richard Frasar</td>\n",
       "      <td>male</td>\n",
       "      <td>21.0</td>\n",
       "      <td>0</td>\n",
       "      <td>1</td>\n",
       "      <td>35281</td>\n",
       "      <td>77.2875</td>\n",
       "      <td>D26</td>\n",
       "      <td>S</td>\n",
       "    </tr>\n",
       "    <tr>\n",
       "      <th>841</th>\n",
       "      <td>842</td>\n",
       "      <td>2</td>\n",
       "      <td>Mudd, Mr. Thomas Charles</td>\n",
       "      <td>male</td>\n",
       "      <td>16.0</td>\n",
       "      <td>0</td>\n",
       "      <td>0</td>\n",
       "      <td>S.O./P.P. 3</td>\n",
       "      <td>10.5000</td>\n",
       "      <td>NaN</td>\n",
       "      <td>S</td>\n",
       "    </tr>\n",
       "    <tr>\n",
       "      <th>250</th>\n",
       "      <td>251</td>\n",
       "      <td>3</td>\n",
       "      <td>Reed, Mr. James George</td>\n",
       "      <td>male</td>\n",
       "      <td>NaN</td>\n",
       "      <td>0</td>\n",
       "      <td>0</td>\n",
       "      <td>362316</td>\n",
       "      <td>7.2500</td>\n",
       "      <td>NaN</td>\n",
       "      <td>S</td>\n",
       "    </tr>\n",
       "    <tr>\n",
       "      <th>284</th>\n",
       "      <td>1176</td>\n",
       "      <td>3</td>\n",
       "      <td>Rosblom, Miss. Salli Helena</td>\n",
       "      <td>female</td>\n",
       "      <td>2.0</td>\n",
       "      <td>1</td>\n",
       "      <td>1</td>\n",
       "      <td>370129</td>\n",
       "      <td>20.2125</td>\n",
       "      <td>NaN</td>\n",
       "      <td>S</td>\n",
       "    </tr>\n",
       "    <tr>\n",
       "      <th>...</th>\n",
       "      <td>...</td>\n",
       "      <td>...</td>\n",
       "      <td>...</td>\n",
       "      <td>...</td>\n",
       "      <td>...</td>\n",
       "      <td>...</td>\n",
       "      <td>...</td>\n",
       "      <td>...</td>\n",
       "      <td>...</td>\n",
       "      <td>...</td>\n",
       "      <td>...</td>\n",
       "    </tr>\n",
       "    <tr>\n",
       "      <th>149</th>\n",
       "      <td>150</td>\n",
       "      <td>2</td>\n",
       "      <td>Byles, Rev. Thomas Roussel Davids</td>\n",
       "      <td>male</td>\n",
       "      <td>42.0</td>\n",
       "      <td>0</td>\n",
       "      <td>0</td>\n",
       "      <td>244310</td>\n",
       "      <td>13.0000</td>\n",
       "      <td>NaN</td>\n",
       "      <td>S</td>\n",
       "    </tr>\n",
       "    <tr>\n",
       "      <th>18</th>\n",
       "      <td>910</td>\n",
       "      <td>3</td>\n",
       "      <td>Ilmakangas, Miss. Ida Livija</td>\n",
       "      <td>female</td>\n",
       "      <td>27.0</td>\n",
       "      <td>1</td>\n",
       "      <td>0</td>\n",
       "      <td>STON/O2. 3101270</td>\n",
       "      <td>7.9250</td>\n",
       "      <td>NaN</td>\n",
       "      <td>S</td>\n",
       "    </tr>\n",
       "    <tr>\n",
       "      <th>8</th>\n",
       "      <td>9</td>\n",
       "      <td>3</td>\n",
       "      <td>Johnson, Mrs. Oscar W (Elisabeth Vilhelmina Berg)</td>\n",
       "      <td>female</td>\n",
       "      <td>27.0</td>\n",
       "      <td>0</td>\n",
       "      <td>2</td>\n",
       "      <td>347742</td>\n",
       "      <td>11.1333</td>\n",
       "      <td>NaN</td>\n",
       "      <td>S</td>\n",
       "    </tr>\n",
       "    <tr>\n",
       "      <th>83</th>\n",
       "      <td>975</td>\n",
       "      <td>3</td>\n",
       "      <td>Demetri, Mr. Marinko</td>\n",
       "      <td>male</td>\n",
       "      <td>NaN</td>\n",
       "      <td>0</td>\n",
       "      <td>0</td>\n",
       "      <td>349238</td>\n",
       "      <td>7.8958</td>\n",
       "      <td>NaN</td>\n",
       "      <td>S</td>\n",
       "    </tr>\n",
       "    <tr>\n",
       "      <th>792</th>\n",
       "      <td>793</td>\n",
       "      <td>3</td>\n",
       "      <td>Sage, Miss. Stella Anna</td>\n",
       "      <td>female</td>\n",
       "      <td>NaN</td>\n",
       "      <td>8</td>\n",
       "      <td>2</td>\n",
       "      <td>CA. 2343</td>\n",
       "      <td>69.5500</td>\n",
       "      <td>NaN</td>\n",
       "      <td>S</td>\n",
       "    </tr>\n",
       "  </tbody>\n",
       "</table>\n",
       "<p>1309 rows × 11 columns</p>\n",
       "</div>"
      ],
      "text/plain": [
       "     PassengerId  Pclass                                               Name  \\\n",
       "620          621       3                                Yasbeck, Mr. Antoni   \n",
       "102          103       1                          White, Mr. Richard Frasar   \n",
       "841          842       2                           Mudd, Mr. Thomas Charles   \n",
       "250          251       3                             Reed, Mr. James George   \n",
       "284         1176       3                        Rosblom, Miss. Salli Helena   \n",
       "..           ...     ...                                                ...   \n",
       "149          150       2                  Byles, Rev. Thomas Roussel Davids   \n",
       "18           910       3                       Ilmakangas, Miss. Ida Livija   \n",
       "8              9       3  Johnson, Mrs. Oscar W (Elisabeth Vilhelmina Berg)   \n",
       "83           975       3                               Demetri, Mr. Marinko   \n",
       "792          793       3                            Sage, Miss. Stella Anna   \n",
       "\n",
       "        Sex   Age  SibSp  Parch            Ticket     Fare Cabin Embarked  \n",
       "620    male  27.0      1      0              2659  14.4542   NaN        C  \n",
       "102    male  21.0      0      1             35281  77.2875   D26        S  \n",
       "841    male  16.0      0      0       S.O./P.P. 3  10.5000   NaN        S  \n",
       "250    male   NaN      0      0            362316   7.2500   NaN        S  \n",
       "284  female   2.0      1      1            370129  20.2125   NaN        S  \n",
       "..      ...   ...    ...    ...               ...      ...   ...      ...  \n",
       "149    male  42.0      0      0            244310  13.0000   NaN        S  \n",
       "18   female  27.0      1      0  STON/O2. 3101270   7.9250   NaN        S  \n",
       "8    female  27.0      0      2            347742  11.1333   NaN        S  \n",
       "83     male   NaN      0      0            349238   7.8958   NaN        S  \n",
       "792  female   NaN      8      2          CA. 2343  69.5500   NaN        S  \n",
       "\n",
       "[1309 rows x 11 columns]"
      ]
     },
     "execution_count": 26,
     "metadata": {},
     "output_type": "execute_result"
    }
   ],
   "source": [
    "train_df = pd.read_csv(\"/Users/visheshpanghal/Downloads/Data_Science/python/titanic/train.csv\")\n",
    "test_df = pd.read_csv(\"/Users/visheshpanghal/Downloads/Data_Science/python/titanic/test.csv\")\n",
    "\n",
    "df = pd.concat([train_df.drop(columns=['Survived']),test_df]).sample(1309)\n",
    "df"
   ]
  },
  {
   "cell_type": "code",
   "execution_count": 27,
   "id": "a3e67e04-8a9d-443b-86c9-9f52ba5614e6",
   "metadata": {},
   "outputs": [
    {
     "data": {
      "text/plain": [
       "<Axes: ylabel='Density'>"
      ]
     },
     "execution_count": 27,
     "metadata": {},
     "output_type": "execute_result"
    },
    {
     "data": {
      "image/png": "[encoded data removed]",
      "text/plain": [
       "<Figure size 640x480 with 1 Axes>"
      ]
     },
     "metadata": {},
     "output_type": "display_data"
    }
   ],
   "source": [
    "df['Fare'].plot(kind='kde') #Here we can reffer as population"
   ]
  },
  {
   "cell_type": "code",
   "execution_count": 70,
   "id": "fcfedb7e-f9c8-443b-a04c-76eb83e60c08",
   "metadata": {},
   "outputs": [
    {
     "data": {
      "text/plain": [
       "33.29547928134557"
      ]
     },
     "execution_count": 70,
     "metadata": {},
     "output_type": "execute_result"
    }
   ],
   "source": [
    "df['Fare'].mean()"
   ]
  },
  {
   "cell_type": "code",
   "execution_count": 58,
   "id": "4174f6dc-6eaf-4814-a05d-cb26cf812335",
   "metadata": {},
   "outputs": [],
   "source": [
    "import seaborn as sns"
   ]
  },
  {
   "cell_type": "code",
   "execution_count": 68,
   "id": "a9c02a4b-8a2f-42b1-afbb-bdb10fe3a2ec",
   "metadata": {},
   "outputs": [
    {
     "data": {
      "text/plain": [
       "<Axes: ylabel='Density'>"
      ]
     },
     "execution_count": 68,
     "metadata": {},
     "output_type": "execute_result"
    },
    {
     "data": {
      "image/png": "[encoded data removed]",
      "text/plain": [
       "<Figure size 640x480 with 1 Axes>"
      ]
     },
     "metadata": {},
     "output_type": "display_data"
    }
   ],
   "source": [
    "samples = [] # samples generated lists\n",
    "for i in range(100):\n",
    "    samples.append(df['Fare'].dropna().sample(70).values.tolist())\n",
    "samples= np.array(samples)\n",
    "samples_mean = samples.mean(axis=1)\n",
    "sns.kdeplot(samples_mean)"
   ]
  },
  {
   "cell_type": "code",
   "execution_count": 69,
   "id": "2acf08b8-b8cb-43bf-8166-2452e7fcb219",
   "metadata": {},
   "outputs": [
    {
     "data": {
      "text/plain": [
       "33.642455157142855"
      ]
     },
     "execution_count": 69,
     "metadata": {},
     "output_type": "execute_result"
    }
   ],
   "source": [
    "samples_mean.mean()"
   ]
  },
  {
   "cell_type": "code",
   "execution_count": 73,
   "id": "e2174733-7166-49ef-9a44-6ed73824ed5e",
   "metadata": {},
   "outputs": [
    {
     "data": {
      "text/plain": [
       "0.7863947595020941"
      ]
     },
     "execution_count": 73,
     "metadata": {},
     "output_type": "execute_result"
    }
   ],
   "source": [
    "samples_mean.std()/np.sqrt(70)"
   ]
  },
  {
   "cell_type": "code",
   "execution_count": 74,
   "id": "f1469702-2bfc-4fed-809b-53c08e4d0130",
   "metadata": {},
   "outputs": [],
   "source": [
    "lower_limit = samples_mean.mean() - 2*samples_mean.std()/np.sqrt(70)\n",
    "upper_limit = samples_mean.mean()+2*samples_mean.std()/np.sqrt(70)"
   ]
  },
  {
   "cell_type": "code",
   "execution_count": 76,
   "id": "a478ab22-fd67-4651-b278-dac7f4f56bb8",
   "metadata": {},
   "outputs": [
    {
     "name": "stdout",
     "output_type": "stream",
     "text": [
      "The range is 32.069665638138666 - 35.215244676147044\n"
     ]
    }
   ],
   "source": [
    "print(\"The range is\",lower_limit, \"-\" ,upper_limit) # here we prove that our population mean lies b/w 2sigma"
   ]
  },
  {
   "cell_type": "markdown",
   "id": "9dadfc84-cc4a-4e54-83a5-3adbc14f4fd6",
   "metadata": {},
   "source": [
    "### T-procedure "
   ]
  },
  {
   "cell_type": "markdown",
   "id": "c0e5da6e-a3e8-4aba-897b-fc6e3a428fee",
   "metadata": {},
   "source": [
    "### CI = X + t(alpha/2) * S/sqrt(n)"
   ]
  },
  {
   "cell_type": "code",
   "execution_count": 78,
   "id": "cc07e82e-c6ec-47a8-bcf6-cbb344ec0b4e",
   "metadata": {},
   "outputs": [],
   "source": [
    "samples = []\n",
    "std_deviation = []\n",
    "for i in range(20):\n",
    "    x = df['Fare'].dropna().sample(30).values\n",
    "    std_deviation.append(x.std())\n",
    "    samples.append(x.tolist())"
   ]
  },
  {
   "cell_type": "code",
   "execution_count": 79,
   "id": "f0b81964-bb03-4394-88c0-85afe3332c68",
   "metadata": {},
   "outputs": [],
   "source": [
    "samples= np.array(samples)\n",
    "samples_mean = samples.mean(axis=1)\n",
    "samples_std = np.mean(std_deviation)"
   ]
  },
  {
   "cell_type": "code",
   "execution_count": null,
   "id": "9ab94cf0-501a-40b9-8228-203613a12a84",
   "metadata": {},
   "outputs": [],
   "source": []
  }
 ],
 "metadata": {
  "kernelspec": {
   "display_name": "Python 3 (ipykernel)",
   "language": "python",
   "name": "python3"
  },
  "language_info": {
   "codemirror_mode": {
    "name": "ipython",
    "version": 3
   },
   "file_extension": ".py",
   "mimetype": "text/x-python",
   "name": "python",
   "nbconvert_exporter": "python",
   "pygments_lexer": "ipython3",
   "version": "3.12.2"
  }
 },
 "nbformat": 4,
 "nbformat_minor": 5
}
