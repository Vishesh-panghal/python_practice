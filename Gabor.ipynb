{
 "cells": [
  {
   "cell_type": "code",
   "execution_count": 1,
   "id": "b9e1ae54-625e-4b72-8728-7df001a0f120",
   "metadata": {},
   "outputs": [],
   "source": [
    "import numpy as np\n",
    "import matplotlib.pyplot as plt\n",
    "import cv2 as cv"
   ]
  },
  {
   "cell_type": "markdown",
   "id": "21c2e46e-a92a-4ddf-82b8-cea2f8199921",
   "metadata": {},
   "source": [
    "## Gabor Filter"
   ]
  },
  {
   "cell_type": "code",
   "execution_count": 92,
   "id": "9b046610-4c95-4343-8cf2-294950cce5c8",
   "metadata": {
    "scrolled": true
   },
   "outputs": [],
   "source": [
    "\n",
    "\n",
    "kSize = 80 # Size (WxH)\n",
    "sigma = 5 # Standard Deivation\n",
    "theta = 1* np.pi/8 # Angle\n",
    "lamda = 1*np.pi/4 # Wavelength of sinusiodal factor\n",
    "gamma = 0.5 # aspect ratio smaller the gamma more it will circular\n",
    "phi = 0   # phase offset means where the sinusiodal wave starts  [0 (top),pi (crossing point)]\n",
    "\n",
    "kernel = cv.getGaborKernel((kSize,kSize),sigma,theta,lamda,gamma,phi,ktype=cv.CV_32F)"
   ]
  },
  {
   "cell_type": "markdown",
   "id": "1b1eee98-5765-4a5f-a371-0056df07a7bc",
   "metadata": {},
   "source": [
    "### Apply filter to feed image"
   ]
  },
  {
   "cell_type": "code",
   "execution_count": 93,
   "id": "7eac2823-d5f9-42c2-9a68-fc769e93c9a2",
   "metadata": {},
   "outputs": [],
   "source": [
    "img = cv.imread('mt_everst.jpg')\n",
    "img = cv.resize(img,(700,700))\n",
    "img = cv.cvtColor(img,cv.COLOR_BGR2GRAY)\n",
    "fimg = cv.filter2D(img,cv.CV_8UC3,kernel)"
   ]
  },
  {
   "cell_type": "code",
   "execution_count": 95,
   "id": "aa155a0b-09bb-46c6-9c51-0eea4874cc37",
   "metadata": {},
   "outputs": [
    {
     "data": {
      "text/plain": [
       "-1"
      ]
     },
     "execution_count": 95,
     "metadata": {},
     "output_type": "execute_result"
    }
   ],
   "source": [
    "cv.imshow('original img',img)\n",
    "cv.imshow('Filter img',fimg)\n",
    "cv.imshow('Kernel',kernel)\n",
    "cv.waitKey(0)\n",
    "cv.destroyAllWindows()\n",
    "cv.waitKey(1)"
   ]
  }
 ],
 "metadata": {
  "kernelspec": {
   "display_name": "Python 3 (ipykernel)",
   "language": "python",
   "name": "python3"
  },
  "language_info": {
   "codemirror_mode": {
    "name": "ipython",
    "version": 3
   },
   "file_extension": ".py",
   "mimetype": "text/x-python",
   "name": "python",
   "nbconvert_exporter": "python",
   "pygments_lexer": "ipython3",
   "version": "3.12.2"
  }
 },
 "nbformat": 4,
 "nbformat_minor": 5
}
